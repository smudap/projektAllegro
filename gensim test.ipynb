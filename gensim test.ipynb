{
 "cells": [
  {
   "cell_type": "code",
   "execution_count": 14,
   "metadata": {},
   "outputs": [
    {
     "name": "stdout",
     "output_type": "stream",
     "text": [
      "3.6.0 |Anaconda 4.3.1 (64-bit)| (default, Dec 23 2016, 11:57:41) [MSC v.1900 64 bit (AMD64)]\n"
     ]
    }
   ],
   "source": [
    "import sys\n",
    "print(sys.version)"
   ]
  },
  {
   "cell_type": "code",
   "execution_count": 1,
   "metadata": {
    "collapsed": true
   },
   "outputs": [],
   "source": [
    "import pandas as pd\n",
    "import numpy as np"
   ]
  },
  {
   "cell_type": "code",
   "execution_count": 2,
   "metadata": {},
   "outputs": [
    {
     "name": "stderr",
     "output_type": "stream",
     "text": [
      "C:\\Users\\barte\\Anaconda3\\lib\\site-packages\\gensim\\utils.py:855: UserWarning: detected Windows; aliasing chunkize to chunkize_serial\n",
      "  warnings.warn(\"detected Windows; aliasing chunkize to chunkize_serial\")\n"
     ]
    }
   ],
   "source": [
    "from gensim.models import Word2Vec"
   ]
  },
  {
   "cell_type": "code",
   "execution_count": 3,
   "metadata": {
    "collapsed": true
   },
   "outputs": [],
   "source": [
    "from sklearn.manifold import t_sne"
   ]
  },
  {
   "cell_type": "markdown",
   "metadata": {},
   "source": [
    "#### Data loading"
   ]
  },
  {
   "cell_type": "code",
   "execution_count": 4,
   "metadata": {},
   "outputs": [
    {
     "data": {
      "text/html": [
       "<div>\n",
       "<table border=\"1\" class=\"dataframe\">\n",
       "  <thead>\n",
       "    <tr style=\"text-align: right;\">\n",
       "      <th></th>\n",
       "      <th>Unnamed: 0</th>\n",
       "      <th>title</th>\n",
       "    </tr>\n",
       "  </thead>\n",
       "  <tbody>\n",
       "    <tr>\n",
       "      <th>37663</th>\n",
       "      <td>6844474730</td>\n",
       "      <td>Pan Poniedziałek Klucze do królestwa - NIX</td>\n",
       "    </tr>\n",
       "    <tr>\n",
       "      <th>38047</th>\n",
       "      <td>6844795218</td>\n",
       "      <td>ZAGINIONA  PILIPIUK</td>\n",
       "    </tr>\n",
       "    <tr>\n",
       "      <th>10043</th>\n",
       "      <td>6507601770</td>\n",
       "      <td>Boski ogień Staveley + Krąg Elfgren fantasy magia</td>\n",
       "    </tr>\n",
       "    <tr>\n",
       "      <th>35064</th>\n",
       "      <td>6841603932</td>\n",
       "      <td>Czerwona Królowa + Szklany Miecz Victoria Aveyard</td>\n",
       "    </tr>\n",
       "    <tr>\n",
       "      <th>36579</th>\n",
       "      <td>6843607197</td>\n",
       "      <td>! KRWAWA HRABINA PAJĘCZA BOGINI Tara Moss</td>\n",
       "    </tr>\n",
       "    <tr>\n",
       "      <th>23392</th>\n",
       "      <td>6785909116</td>\n",
       "      <td>KLEJNOT W CZASZCE Michael Moorcock*</td>\n",
       "    </tr>\n",
       "    <tr>\n",
       "      <th>36200</th>\n",
       "      <td>6843074433</td>\n",
       "      <td>Taniec nad przepaścią Elena Malinowska</td>\n",
       "    </tr>\n",
       "    <tr>\n",
       "      <th>6265</th>\n",
       "      <td>6044450377</td>\n",
       "      <td>Księżniczka - Pilipiuk Andrzej</td>\n",
       "    </tr>\n",
       "    <tr>\n",
       "      <th>33982</th>\n",
       "      <td>6840301188</td>\n",
       "      <td>EUGENIUSZ DĘBSKI - O WŁOS OD PIWA</td>\n",
       "    </tr>\n",
       "    <tr>\n",
       "      <th>10655</th>\n",
       "      <td>6563991333</td>\n",
       "      <td>PIOTR ZWIERZCHOWSKI SENDILKELM _____!</td>\n",
       "    </tr>\n",
       "  </tbody>\n",
       "</table>\n",
       "</div>"
      ],
      "text/plain": [
       "       Unnamed: 0                                              title\n",
       "37663  6844474730         Pan Poniedziałek Klucze do królestwa - NIX\n",
       "38047  6844795218                                ZAGINIONA  PILIPIUK\n",
       "10043  6507601770  Boski ogień Staveley + Krąg Elfgren fantasy magia\n",
       "35064  6841603932  Czerwona Królowa + Szklany Miecz Victoria Aveyard\n",
       "36579  6843607197          ! KRWAWA HRABINA PAJĘCZA BOGINI Tara Moss\n",
       "23392  6785909116                KLEJNOT W CZASZCE Michael Moorcock*\n",
       "36200  6843074433             Taniec nad przepaścią Elena Malinowska\n",
       "6265   6044450377                     Księżniczka - Pilipiuk Andrzej\n",
       "33982  6840301188                  EUGENIUSZ DĘBSKI - O WŁOS OD PIWA\n",
       "10655  6563991333              PIOTR ZWIERZCHOWSKI SENDILKELM _____!"
      ]
     },
     "execution_count": 4,
     "metadata": {},
     "output_type": "execute_result"
    }
   ],
   "source": [
    "data = pd.read_csv(\"titles_books.csv\")\n",
    "data.sample(10)"
   ]
  },
  {
   "cell_type": "code",
   "execution_count": 5,
   "metadata": {
    "collapsed": true
   },
   "outputs": [],
   "source": [
    "import re\n",
    "def getWords(text):\n",
    "    all_words = re.compile('\\w+').findall(text.replace(\".\", \"\"))\n",
    "    return [words.lower() for words in all_words if len(words)>1]"
   ]
  },
  {
   "cell_type": "code",
   "execution_count": 6,
   "metadata": {
    "collapsed": true
   },
   "outputs": [],
   "source": [
    "titles = [getWords(title) for title in data.title]"
   ]
  },
  {
   "cell_type": "markdown",
   "metadata": {},
   "source": [
    "#### Model training"
   ]
  },
  {
   "cell_type": "code",
   "execution_count": 7,
   "metadata": {
    "collapsed": true
   },
   "outputs": [],
   "source": [
    "VECTOR_DIM = 100"
   ]
  },
  {
   "cell_type": "code",
   "execution_count": 22,
   "metadata": {
    "collapsed": true
   },
   "outputs": [],
   "source": [
    "model = Word2Vec(titles, size=VECTOR_DIM, min_count=0)"
   ]
  },
  {
   "cell_type": "code",
   "execution_count": 23,
   "metadata": {},
   "outputs": [
    {
     "data": {
      "text/plain": [
       "[('hobbit', 0.9975394010543823),\n",
       " ('jrr', 0.9969319105148315),\n",
       " ('silmarillion', 0.9952049255371094),\n",
       " ('pierścienia', 0.9946894645690918),\n",
       " ('powrotem', 0.9936426877975464),\n",
       " ('władca', 0.9911157488822937),\n",
       " ('pierścieni', 0.9903944134712219),\n",
       " ('hurina', 0.9887254238128662),\n",
       " ('dwie', 0.9880675673484802),\n",
       " ('tam', 0.9869142770767212),\n",
       " ('kropce', 0.986514687538147),\n",
       " ('kropka', 0.9840320348739624),\n",
       " ('mórz', 0.9836744666099548),\n",
       " ('beowulf', 0.9832788705825806),\n",
       " ('wieze', 0.9830971360206604),\n",
       " ('jrrtolkien', 0.9822474718093872),\n",
       " ('tomie', 0.9818856716156006),\n",
       " ('dżil', 0.98114013671875),\n",
       " ('trygław', 0.9793127179145813),\n",
       " ('czyli', 0.9790645837783813)]"
      ]
     },
     "execution_count": 23,
     "metadata": {},
     "output_type": "execute_result"
    }
   ],
   "source": [
    "model.similar_by_word(word=\"tolkien\".lower(), topn=20)"
   ]
  },
  {
   "cell_type": "code",
   "execution_count": 24,
   "metadata": {
    "collapsed": true
   },
   "outputs": [],
   "source": [
    "def get_word_score(model, word):\n",
    "    try:\n",
    "        score = model.wv[word]\n",
    "    except:\n",
    "        score = np.repeat(np.nan, repeats=VECTOR_DIM)\n",
    "    return score\n",
    "\n",
    "def get_title_score(model, title):\n",
    "    title_parsed = getWords(title)\n",
    "    mean_score = np.nanmean([get_word_score(model, i) for i in title_parsed], axis = 0) #nanmean to jak na.rm=TRUE w R\n",
    "    return mean_score"
   ]
  },
  {
   "cell_type": "code",
   "execution_count": 25,
   "metadata": {},
   "outputs": [
    {
     "data": {
      "text/plain": [
       "80.005814"
      ]
     },
     "execution_count": 25,
     "metadata": {},
     "output_type": "execute_result"
    }
   ],
   "source": [
    "v1 = get_title_score(model, \"Tolkien - Władca pierścieni - Trylogia\")\n",
    "v2 = get_title_score(model, \"NAUKA ŚWIATA DYSKU I - Terry Pratchett\")\n",
    "np.sum((v1-v2)**2)"
   ]
  },
  {
   "cell_type": "code",
   "execution_count": 26,
   "metadata": {},
   "outputs": [],
   "source": [
    "vectorized_titles = [get_title_score(model, title) for title in data.title]"
   ]
  },
  {
   "cell_type": "markdown",
   "metadata": {
    "collapsed": true
   },
   "source": [
    "#### T-SNE visualizations"
   ]
  },
  {
   "cell_type": "code",
   "execution_count": 27,
   "metadata": {
    "collapsed": true
   },
   "outputs": [],
   "source": [
    "tsne_transformer = t_sne.TSNE()"
   ]
  },
  {
   "cell_type": "code",
   "execution_count": null,
   "metadata": {
    "collapsed": true
   },
   "outputs": [],
   "source": [
    "tnsed_titles = tsne_transformer.fit_transform(vectorized_titles)"
   ]
  },
  {
   "cell_type": "code",
   "execution_count": null,
   "metadata": {
    "collapsed": true
   },
   "outputs": [],
   "source": []
  }
 ],
 "metadata": {
  "anaconda-cloud": {},
  "kernelspec": {
   "display_name": "Python [conda root]",
   "language": "python",
   "name": "conda-root-py"
  },
  "language_info": {
   "codemirror_mode": {
    "name": "ipython",
    "version": 3
   },
   "file_extension": ".py",
   "mimetype": "text/x-python",
   "name": "python",
   "nbconvert_exporter": "python",
   "pygments_lexer": "ipython3",
   "version": "3.6.0"
  }
 },
 "nbformat": 4,
 "nbformat_minor": 2
}
