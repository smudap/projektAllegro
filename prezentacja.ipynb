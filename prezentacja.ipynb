{
 "cells": [
  {
   "cell_type": "markdown",
   "metadata": {},
   "source": [
    "# Klasteryzacja ofert na podstawie tytułów"
   ]
  },
  {
   "cell_type": "markdown",
   "metadata": {},
   "source": [
    "W dziejszych czasach nieodłącznym elementem sektora usług konsumenckich jest rekomendacja pewnych przedmiotów. Jedną z firm wykorzystujących tą technikę w świadczonych usługach jest Allegro.pl, największa platforma transakcyjna on-line w Polsce, o czym świadczy dostępna na ich stronie sekcja \"polecane dla ciebie\". Niestety czasem zdarza się, że system rekomendacyjny poleci użytkownikowi oferty przedstawiające ten sam produkt, ale o innym tytule. Aby uniknąć tego typu sytuacji można próbować łączyć aukcje z tymi samymi przedmiotami w pewne grupy. I właśnie ten projekt miał na celu zmierzenie się z problemem klasteryzacji ofert z portalu Allegro na podstawie ich tytułów. "
   ]
  },
  {
   "cell_type": "markdown",
   "metadata": {},
   "source": [
    "# Dane"
   ]
  },
  {
   "cell_type": "markdown",
   "metadata": {},
   "source": [
    "## Pobranie danych"
   ]
  },
  {
   "cell_type": "markdown",
   "metadata": {},
   "source": [
    "Dane do projektu należało pobrać przy pomocy Allegro WebAPI, tzn. usługi sieciowej, która umożliwia wymianę informacji między zasobami Allegro a oprogramowaniem zewnętrznym.\n",
    "\n",
    "W naszym projekcie postanowiliśmy się skupić na książkach o fantastyce, co wynikało głównie ze zwięzłości wybranej kategorii i łatwej formy tytułów ofert. W tym celu pobraliśmy wszystkie możliwe (44357) tytuły dostępnych aukcji w dniu 9 czerwca 2017 roku."
   ]
  },
  {
   "cell_type": "code",
   "execution_count": 10,
   "metadata": {},
   "outputs": [
    {
     "name": "stdout",
     "output_type": "stream",
     "text": [
      "Liczba ofert: 44357\n"
     ]
    },
    {
     "data": {
      "text/html": [
       "<div>\n",
       "<style>\n",
       "    .dataframe thead tr:only-child th {\n",
       "        text-align: right;\n",
       "    }\n",
       "\n",
       "    .dataframe thead th {\n",
       "        text-align: left;\n",
       "    }\n",
       "\n",
       "    .dataframe tbody tr th {\n",
       "        vertical-align: top;\n",
       "    }\n",
       "</style>\n",
       "<table border=\"1\" class=\"dataframe\">\n",
       "  <thead>\n",
       "    <tr style=\"text-align: right;\">\n",
       "      <th></th>\n",
       "      <th>Unnamed: 0</th>\n",
       "      <th>title</th>\n",
       "    </tr>\n",
       "  </thead>\n",
       "  <tbody>\n",
       "    <tr>\n",
       "      <th>0</th>\n",
       "      <td>24118669</td>\n",
       "      <td>N.Stephenson USTRÓJ ŚWIATA- pomoc rottka.pl</td>\n",
       "    </tr>\n",
       "    <tr>\n",
       "      <th>1</th>\n",
       "      <td>24119018</td>\n",
       "      <td>T Canavan NOWICJUSZKA  pomoc  rottka.pl</td>\n",
       "    </tr>\n",
       "    <tr>\n",
       "      <th>2</th>\n",
       "      <td>24119019</td>\n",
       "      <td>T Canavan UCZENNICA MAGA  pomoc  rottka.pl</td>\n",
       "    </tr>\n",
       "    <tr>\n",
       "      <th>3</th>\n",
       "      <td>24119035</td>\n",
       "      <td>T Canavan UCZENNICA MAGA  pomoc  rottka.pl</td>\n",
       "    </tr>\n",
       "    <tr>\n",
       "      <th>4</th>\n",
       "      <td>24174585</td>\n",
       "      <td>ZAMEK ZŁUDZEŃ Mercedes Lackey Josepha Sherman</td>\n",
       "    </tr>\n",
       "    <tr>\n",
       "      <th>5</th>\n",
       "      <td>24176443</td>\n",
       "      <td>ZWIADOWCY WCZESNE LATA TURNIEJ W GORLANIE Flan...</td>\n",
       "    </tr>\n",
       "    <tr>\n",
       "      <th>6</th>\n",
       "      <td>24186459</td>\n",
       "      <td>*BLOX* Więzień na Marsie. G. Le Rouge. KIC</td>\n",
       "    </tr>\n",
       "    <tr>\n",
       "      <th>7</th>\n",
       "      <td>24189517</td>\n",
       "      <td>Brama Ivrel C.J. Cherryh</td>\n",
       "    </tr>\n",
       "    <tr>\n",
       "      <th>8</th>\n",
       "      <td>24194754</td>\n",
       "      <td>Silentium Universi - Dariusz Domagalski fantasy</td>\n",
       "    </tr>\n",
       "    <tr>\n",
       "      <th>9</th>\n",
       "      <td>24196169</td>\n",
       "      <td>NIEŚMIERTELNY Sharon Sala</td>\n",
       "    </tr>\n",
       "  </tbody>\n",
       "</table>\n",
       "</div>"
      ],
      "text/plain": [
       "   Unnamed: 0                                              title\n",
       "0    24118669        N.Stephenson USTRÓJ ŚWIATA- pomoc rottka.pl\n",
       "1    24119018            T Canavan NOWICJUSZKA  pomoc  rottka.pl\n",
       "2    24119019         T Canavan UCZENNICA MAGA  pomoc  rottka.pl\n",
       "3    24119035         T Canavan UCZENNICA MAGA  pomoc  rottka.pl\n",
       "4    24174585      ZAMEK ZŁUDZEŃ Mercedes Lackey Josepha Sherman\n",
       "5    24176443  ZWIADOWCY WCZESNE LATA TURNIEJ W GORLANIE Flan...\n",
       "6    24186459         *BLOX* Więzień na Marsie. G. Le Rouge. KIC\n",
       "7    24189517                           Brama Ivrel C.J. Cherryh\n",
       "8    24194754    Silentium Universi - Dariusz Domagalski fantasy\n",
       "9    24196169                          NIEŚMIERTELNY Sharon Sala"
      ]
     },
     "execution_count": 10,
     "metadata": {},
     "output_type": "execute_result"
    }
   ],
   "source": [
    "import pandas as pd\n",
    "\n",
    "data = pd.read_csv(\"titles_books.csv\")\n",
    "print(\"Liczba ofert: \" + str(data.shape[0]))\n",
    "data.head(10)"
   ]
  },
  {
   "cell_type": "markdown",
   "metadata": {},
   "source": [
    "## Czyszczenie danych"
   ]
  },
  {
   "cell_type": "markdown",
   "metadata": {},
   "source": [
    "Zawsze podczas pracy z danymi, w szczególności rzeczywistymi, należy je wyczyścić na tyle na ile jest to możliwe.\n",
    "\n",
    "Wykorzystana przez nas wstępna obróbka danych to:\n",
    "1. Usunięcie wszystkich znaków interpunkcyjnych,\n",
    "2. Zamiana inicjałów autorów na ciąg znaków (np. C.J. -> CJ),\n",
    "3. Zamiana wielkich liter na małe,\n",
    "4. Usunięcie pojedynczych znaków i liter,\n",
    "5. Usunięcie stopwordsów (lista 3717 słów i symboli charakterystycznych dla ofert związanych z książkami),\n",
    "6. Przedstawienie tytułów ofert jako wektory słów."
   ]
  },
  {
   "cell_type": "code",
   "execution_count": null,
   "metadata": {
    "collapsed": true
   },
   "outputs": [],
   "source": []
  },
  {
   "cell_type": "code",
   "execution_count": null,
   "metadata": {
    "collapsed": true
   },
   "outputs": [],
   "source": []
  },
  {
   "cell_type": "markdown",
   "metadata": {},
   "source": [
    "# Miary jakości"
   ]
  },
  {
   "cell_type": "markdown",
   "metadata": {},
   "source": [
    "W przypadku gdy znane są prawdziwe klasy jest możliwe zdefiniowanie intuicyjnych miar oceny klasteryzacji:\n",
    "1. homogeniczność - miara określająca czy każdy klaster zawiera tylko elementy z tej samej jednej klasy,\n",
    "2. kompletność - miara określająca czy wszyscy członkowie jednej klasy należą do tego samego klastra,\n",
    "3. V-miara - średnia harmoniczna powyższych miar.\n",
    "\n",
    "Przedziałem wartości tych miar jest $[0,1]$, gdzie $0$ oznacza złe dopasowanie, a $1$ perfekcyjne. Główną zaletą tych miar jest ich intuicyjność oraz brak wymogów co do założeń struktury modelu do klasteryzacji.\n",
    "\n",
    "Więcej o tych miarach i wzorach je reprezentujących można przeczytać [tutaj](http://scikit-learn.org/stable/modules/clustering.html#homogeneity-completeness-and-v-measure).\n"
   ]
  },
  {
   "cell_type": "code",
   "execution_count": null,
   "metadata": {
    "collapsed": true
   },
   "outputs": [],
   "source": []
  }
 ],
 "metadata": {
  "kernelspec": {
   "display_name": "Python [conda env:python36]",
   "language": "python",
   "name": "conda-env-python36-py"
  },
  "language_info": {
   "codemirror_mode": {
    "name": "ipython",
    "version": 3
   },
   "file_extension": ".py",
   "mimetype": "text/x-python",
   "name": "python",
   "nbconvert_exporter": "python",
   "pygments_lexer": "ipython3",
   "version": "3.6.1"
  }
 },
 "nbformat": 4,
 "nbformat_minor": 2
}
