{
 "cells": [
  {
   "cell_type": "markdown",
   "metadata": {},
   "source": [
    "# Klasteryzacja ofert na podstawie tytułów"
   ]
  },
  {
   "cell_type": "markdown",
   "metadata": {},
   "source": [
    "W dziejszych czasach nieodłącznym elementem sektora usług konsumenckich jest rekomendacja pewnych przedmiotów. Jedną z firm wykorzystujących tą technikę w świadczonych usługach jest Allegro.pl, największa platforma transakcyjna on-line w Polsce, o czym świadczy dostępna na ich stronie sekcja \"polecane dla ciebie\". Niestety czasem zdarza się, że system rekomendacyjny poleci użytkownikowi oferty przedstawiające ten sam produkt, ale o innym tytule. Aby uniknąć tego typu sytuacji można próbować łączyć aukcje z tymi samymi przedmiotami w pewne grupy. I właśnie ten projekt miał na celu zmierzenie się z problemem klasteryzacji ofert z portalu Allegro na podstawie ich tytułów. "
   ]
  },
  {
   "cell_type": "markdown",
   "metadata": {},
   "source": [
    "# Dane"
   ]
  },
  {
   "cell_type": "markdown",
   "metadata": {},
   "source": [
    "## Pobranie danych"
   ]
  },
  {
   "cell_type": "markdown",
   "metadata": {},
   "source": [
    "Dane do projektu należało pobrać przy pomocy Allegro WebAPI, tzn. usługi sieciowej, która umożliwia wymianę informacji między zasobami Allegro a oprogramowaniem zewnętrznym.\n",
    "\n",
    "W naszym projekcie postanowiliśmy się skupić na książkach o fantastyce, co wynikało głównie ze zwięzłości wybranej kategorii i łatwej formy tytułów ofert. W tym celu pobraliśmy wszystkie możliwe (44357) tytuły dostępnych aukcji w dniu 9 czerwca 2017 roku."
   ]
  },
  {
   "cell_type": "code",
   "execution_count": 14,
   "metadata": {
    "collapsed": false
   },
   "outputs": [
    {
     "name": "stdout",
     "output_type": "stream",
     "text": [
      "Liczba ofert: 43604\n"
     ]
    },
    {
     "data": {
      "text/html": [
       "<div>\n",
       "<table border=\"1\" class=\"dataframe\">\n",
       "  <thead>\n",
       "    <tr style=\"text-align: right;\">\n",
       "      <th></th>\n",
       "      <th>Unnamed: 0</th>\n",
       "      <th>title</th>\n",
       "    </tr>\n",
       "  </thead>\n",
       "  <tbody>\n",
       "    <tr>\n",
       "      <th>0</th>\n",
       "      <td>24118669</td>\n",
       "      <td>N.Stephenson USTRÓJ ŚWIATA- pomoc rottka.pl</td>\n",
       "    </tr>\n",
       "    <tr>\n",
       "      <th>1</th>\n",
       "      <td>24119018</td>\n",
       "      <td>T Canavan NOWICJUSZKA  pomoc  rottka.pl</td>\n",
       "    </tr>\n",
       "    <tr>\n",
       "      <th>2</th>\n",
       "      <td>24119019</td>\n",
       "      <td>T Canavan UCZENNICA MAGA  pomoc  rottka.pl</td>\n",
       "    </tr>\n",
       "    <tr>\n",
       "      <th>3</th>\n",
       "      <td>24119035</td>\n",
       "      <td>T Canavan UCZENNICA MAGA  pomoc  rottka.pl</td>\n",
       "    </tr>\n",
       "    <tr>\n",
       "      <th>4</th>\n",
       "      <td>24174585</td>\n",
       "      <td>ZAMEK ZŁUDZEŃ Mercedes Lackey Josepha Sherman</td>\n",
       "    </tr>\n",
       "    <tr>\n",
       "      <th>5</th>\n",
       "      <td>24176443</td>\n",
       "      <td>ZWIADOWCY WCZESNE LATA TURNIEJ W GORLANIE Flan...</td>\n",
       "    </tr>\n",
       "    <tr>\n",
       "      <th>6</th>\n",
       "      <td>24186459</td>\n",
       "      <td>*BLOX* Więzień na Marsie. G. Le Rouge. KIC</td>\n",
       "    </tr>\n",
       "    <tr>\n",
       "      <th>7</th>\n",
       "      <td>24189517</td>\n",
       "      <td>Brama Ivrel C.J. Cherryh</td>\n",
       "    </tr>\n",
       "    <tr>\n",
       "      <th>8</th>\n",
       "      <td>24194754</td>\n",
       "      <td>Silentium Universi - Dariusz Domagalski fantasy</td>\n",
       "    </tr>\n",
       "    <tr>\n",
       "      <th>9</th>\n",
       "      <td>24196169</td>\n",
       "      <td>NIEŚMIERTELNY Sharon Sala</td>\n",
       "    </tr>\n",
       "  </tbody>\n",
       "</table>\n",
       "</div>"
      ],
      "text/plain": [
       "   Unnamed: 0                                              title\n",
       "0    24118669        N.Stephenson USTRÓJ ŚWIATA- pomoc rottka.pl\n",
       "1    24119018            T Canavan NOWICJUSZKA  pomoc  rottka.pl\n",
       "2    24119019         T Canavan UCZENNICA MAGA  pomoc  rottka.pl\n",
       "3    24119035         T Canavan UCZENNICA MAGA  pomoc  rottka.pl\n",
       "4    24174585      ZAMEK ZŁUDZEŃ Mercedes Lackey Josepha Sherman\n",
       "5    24176443  ZWIADOWCY WCZESNE LATA TURNIEJ W GORLANIE Flan...\n",
       "6    24186459         *BLOX* Więzień na Marsie. G. Le Rouge. KIC\n",
       "7    24189517                           Brama Ivrel C.J. Cherryh\n",
       "8    24194754    Silentium Universi - Dariusz Domagalski fantasy\n",
       "9    24196169                          NIEŚMIERTELNY Sharon Sala"
      ]
     },
     "execution_count": 14,
     "metadata": {},
     "output_type": "execute_result"
    }
   ],
   "source": [
    "import pandas as pd\n",
    "from bigramFunctions import getWords, getBigrams\n",
    "stopwords = pd.read_csv(\"stopwords.csv\").as_matrix()\n",
    "stopwords.reshape(stopwords.shape[0])\n",
    "train_data = pd.read_csv(\"titles_books.csv\")\n",
    "test_data = pd.read_csv(\"test_data.csv\")\n",
    "train_data = train_data[~train_data[\"Unnamed: 0\"].isin(test_data[\"Unnamed: 0\"])]\n",
    "\n",
    "print(\"Liczba ofert: \" + str(train_data.shape[0]))\n",
    "train_data.head(10)"
   ]
  },
  {
   "cell_type": "markdown",
   "metadata": {},
   "source": [
    "## Czyszczenie danych"
   ]
  },
  {
   "cell_type": "markdown",
   "metadata": {},
   "source": [
    "Zawsze podczas pracy z danymi, w szczególności rzeczywistymi, należy je wyczyścić na tyle na ile jest to możliwe.\n",
    "\n",
    "Wykorzystana przez nas wstępna obróbka danych to:\n",
    "1. Usunięcie wszystkich znaków interpunkcyjnych,\n",
    "2. Zamiana inicjałów autorów na ciąg znaków (np. C.J. -> CJ),\n",
    "3. Zamiana wielkich liter na małe,\n",
    "4. Usunięcie pojedynczych znaków i liter,\n",
    "5. Usunięcie stopwordsów (lista 3717 słów i symboli charakterystycznych dla ofert związanych z książkami),\n",
    "6. Przedstawienie tytułów ofert jako wektory słów."
   ]
  },
  {
   "cell_type": "markdown",
   "metadata": {
    "collapsed": true
   },
   "source": [
    "# Ogólna idea rozwiązania"
   ]
  },
  {
   "cell_type": "markdown",
   "metadata": {
    "collapsed": true
   },
   "source": [
    "Rozwiązanie jest składa się z dwóch etapów: \n",
    "1. Budowa wektorów liczbowych reprezentujących słowa (*word2vec*),\n",
    "2. Klasteryzacja otrzymanych wektorów.  \n",
    "\n",
    "Wektory budowaliśmy na dwa sposoby: najpierw zastosowaliśmy klasyczne podejście, czyli budowa wektorów dla poszczególnych słów. Tak utworzone zanurzenia nie reprezentowały jednak dobrze relacji między tytułami książek i były bardzo podatne na dodatkowe słowa w tytule. Dlatego przetestowaliśmy również wektory zbudowane dla bigramów, czyli par słów występujących obok siebie."
   ]
  },
  {
   "cell_type": "code",
   "execution_count": 9,
   "metadata": {
    "collapsed": false
   },
   "outputs": [
    {
     "name": "stdout",
     "output_type": "stream",
     "text": [
      "['tolkien', 'władca', 'pierścieni', 'trylogia']\n"
     ]
    }
   ],
   "source": [
    "print(getWords(\"Tolkien - Władca pierścieni - Trylogia\", stopwords))"
   ]
  },
  {
   "cell_type": "code",
   "execution_count": 10,
   "metadata": {
    "collapsed": false,
    "scrolled": true
   },
   "outputs": [
    {
     "name": "stdout",
     "output_type": "stream",
     "text": [
      "['tolkien władca', 'pierścieni władca', 'pierścieni trylogia']\n"
     ]
    }
   ],
   "source": [
    "print(getBigrams(\"Tolkien - Władca pierścieni - Trylogia\", stopwords))"
   ]
  },
  {
   "cell_type": "markdown",
   "metadata": {},
   "source": [
    "Bigramy są sortowane alfabetycznie - z punktu widzenia algorytmu nie ma to żadnego wpływu na wyniki, a w ten sposób możemy się uodpornić na różne konwencje zapisywania imienia i nazwiska."
   ]
  },
  {
   "cell_type": "markdown",
   "metadata": {},
   "source": [
    "#### Word2Vec"
   ]
  },
  {
   "cell_type": "markdown",
   "metadata": {},
   "source": [
    "Jest to algorytm pozwalający na przedstawienie słów pochodzących z pewnego korpusu dokumentów jako zbiór wektorów w *n*-wymiarowej przestrzeni. Wykorzystaliśmy implementację dostępną w pakiecie `gensim` opartą o model **CBOW** (*Continuous Bag Of Words*). Proces uczenia przebiega następująco - za pomocą sieci neuronowej próbujemy przewidzieć słowo na podstawie jego najbliższego otoczenia. Mając tak wytrenowany model możemy otrzymać interesujące nas wektory na podstawie wartości warstwy ukrytej.\n",
    "\n",
    "Głównym celem było uzyskanie takich wektorów, które będą cechowały się niską odległością między wektorami reprezentującymi różne oferty tych samych książek. Reprezentację wektorową tytułu oferty otrzymujemy uśredniając wektory pojedynczych słów tworzących ten tytuł."
   ]
  },
  {
   "cell_type": "markdown",
   "metadata": {},
   "source": [
    "#### MeanShift"
   ]
  },
  {
   "cell_type": "markdown",
   "metadata": {},
   "source": [
    "Jest to algorytm klasteryzacji oparty o estymację jądrową. W każdym punkcie zbioru nakładamy pewne jądro (przykładowo gaussowskie), a następnie sumujemy wartości otrzymane w danych punktach. W ten sposób otrzymujemy powierzchnię reprezentującą nasze dane. Następnym krokiem jest iteracyjne \"wciąganie\" wszystkich punktów na szczyt otrzymanej powierzchni. W ten sposób otrzymujemy klastry oraz punkty które do nich przynależą. Głównym parametrem algorytmu jest dokładność odwzorowania otrzymanej powierzchni - im większa, tym więcej klastrów otrzymujemy."
   ]
  },
  {
   "cell_type": "markdown",
   "metadata": {},
   "source": [
    "<div\n",
    "style=\"float:center;margin-right:5px;\">\n",
    "    <div style=\"float:left;margin-right:5px;\">\n",
    "        <img src=\"img/ms_2d_bw_2.gif\" width=\"400\" height=\"300\" />\n",
    "    </div>\n",
    "    <div style=\"float:left;margin-right:5px;\">\n",
    "        <img src=\"img/ms_2d_bw_.8.gif\" width=\"400\" height=\"300\" />\n",
    "    </div>\n",
    "</div>\n"
   ]
  },
  {
   "cell_type": "markdown",
   "metadata": {},
   "source": [
    "\n",
    "# Miary jakości"
   ]
  },
  {
   "cell_type": "markdown",
   "metadata": {},
   "source": [
    "W przypadku gdy znane są prawdziwe klasy jest możliwe zdefiniowanie intuicyjnych miar oceny klasteryzacji:\n",
    "1. homogeniczność - miara określająca czy każdy klaster zawiera tylko elementy z tej samej jednej klasy,\n",
    "2. kompletność - miara określająca czy wszyscy członkowie jednej klasy należą do tego samego klastra,\n",
    "3. V-miara - średnia harmoniczna powyższych miar.\n",
    "\n",
    "Przedziałem wartości tych miar jest $[0,1]$, gdzie $0$ oznacza złe dopasowanie, a $1$ perfekcyjne. Główną zaletą tych miar jest ich intuicyjność oraz brak wymogów co do założeń struktury modelu do klasteryzacji.\n",
    "\n",
    "Więcej o tych miarach i wzorach je reprezentujących można przeczytać [tutaj](http://scikit-learn.org/stable/modules/clustering.html#homogeneity-completeness-and-v-measure).\n"
   ]
  },
  {
   "cell_type": "markdown",
   "metadata": {
    "collapsed": true
   },
   "source": [
    "# Wyniki"
   ]
  },
  {
   "cell_type": "markdown",
   "metadata": {},
   "source": [
    "Procedura trenowania i testowania modelu klastrującego:\n",
    "1. Na zbiorze treningowym trenujemy algorytmy word2vec, a następnie MeanShift,\n",
    "2. Mając gotowe wektory przekształcamy testowe tytuły ofert na wektory, a następnie przydzielamy je do otrzymanych w poprzednim kroku klastrów.\n",
    "3. Dodatkowo obliczamy również wybrane przez nas miary na pewnym małym podzbiorze zbioru testowego w celu sprawdzenia działania klasteryzacji na zbiorze symulującym wyniki rekomendacji.\n",
    "\n"
   ]
  },
  {
   "cell_type": "markdown",
   "metadata": {},
   "source": [
    "|                | H    | C    | V    |\n",
    "|----------------|------|------|------|\n",
    "| Pełny zbiór testowy   | 0.63 | 0.78 | 0.69 |\n",
    "| Pozdbiór | 0.76  | 0.58  | 0.65 |\n",
    "\n",
    "<p style=\"text-align: center;\"> Wyniki przy użyciu wektorów dla słów </p>"
   ]
  },
  {
   "cell_type": "markdown",
   "metadata": {},
   "source": [
    "|                | H    | C    | V    |\n",
    "|----------------|------|------|------|\n",
    "| Pełny zbiór testowy   | 0.63 | 0.78 | 0.69 |\n",
    "| Pozdbiór | 0.76  | 0.58  | 0.65 |\n",
    "\n",
    "<p style=\"text-align: center;\"> Wyniki przy użyciu wektorów dla bigramów </p>"
   ]
  },
  {
   "cell_type": "markdown",
   "metadata": {},
   "source": [
    "Widzimy, że na pełnym zbiorze testowym mamy sytuację, w której otrzymane klastry zawierają po kilka książek, ale poszczególne tytuły należą raczej do jednego klastra. Wskazuje na to odpowiednio duża wartość kompletności oraz trochę mniejsza homogeniczność. Ogólnie jednak otrzymane wyniki są dobre i v-score wynosi 0.69.\n",
    "\n",
    "Dla mniejszego podzbioru sytuacja się odwraca - mamy klastry które zawierają faktycznie te same książki, ale książki mogą być rozbite na kilka klastrów. W praktyce oznaczałoby to, że po redukcji wyników za pomocą naszego algorytmu nie pozbylibyśmy się w pełni duplikatów, ale jednocześnie nie stracilibyśmy zbyt dużo otrzymanych unikalnych wyników rekomendacji."
   ]
  },
  {
   "cell_type": "markdown",
   "metadata": {},
   "source": [
    "# Wizualizacje word2vec"
   ]
  },
  {
   "cell_type": "markdown",
   "metadata": {},
   "source": [
    "Ponieważ cieżko o dobrą miarę która pokaże jakość samej transformacji słów na wektory, postanowiliśmy odwołać się do wizualizacji."
   ]
  },
  {
   "cell_type": "markdown",
   "metadata": {},
   "source": [
    "Pierwszy wykres pokazuje jak wyglądają odległości między wektorami dla ofert dotyczących wybranych książek. W szczególności chcieliśmy sprawdzić, czy da się odróżnić od siebie dzieła różnych autorów, oraz czy da się podzielić książki w obrębie autora."
   ]
  },
  {
   "cell_type": "markdown",
   "metadata": {},
   "source": [
    "![](img\\heatmapa.png)"
   ]
  },
  {
   "cell_type": "markdown",
   "metadata": {},
   "source": [
    "Pierwsze, co rzuca się w oczy to wyraźnie wydrębnione grupy książek różnych autorów. Jeśli chodzi o różnice między konkretnymi książkami, to dla książek o Harrym Potterze widzimy dosć wyraźny podział, ale już wśród innych autorów nie jest to aż tak widoczne.  "
   ]
  },
  {
   "cell_type": "markdown",
   "metadata": {},
   "source": [
    "Kolejny wykres przedstawia rzutowanie 32-wymiarowej przestrzeni tytułów ofert ze zbioru testowego na dwu wymiarową płaszczyznę. Rzutowanie zostało przeprowadzone za pomocą algorytmu `t-sne`, który służy do redukcji wymiarów przy jednoczesnym zachowaniu kształtu i odległości między punktami.\n",
    "\n",
    "Widzimy wyraźnie wydrębnione grupy książek od róznych autorów, niestety struktura wewnątrz nich jest na ogół dość chaotyczna."
   ]
  },
  {
   "cell_type": "markdown",
   "metadata": {},
   "source": [
    "[Interaktywny wykres](bokeh_vis\\test_data_bokeh_vis.html)"
   ]
  },
  {
   "cell_type": "markdown",
   "metadata": {
    "collapsed": true
   },
   "source": [
    "Ostatni wykres jest podobny w założeniach, ale różni się tym, że przedstawione tutaj są reprezentacje wektorowe oparte o bigramy.\n"
   ]
  },
  {
   "cell_type": "code",
   "execution_count": null,
   "metadata": {
    "collapsed": true
   },
   "outputs": [],
   "source": []
  }
 ],
 "metadata": {
  "anaconda-cloud": {},
  "kernelspec": {
   "display_name": "Python [conda root]",
   "language": "python",
   "name": "conda-root-py"
  },
  "language_info": {
   "codemirror_mode": {
    "name": "ipython",
    "version": 3
   },
   "file_extension": ".py",
   "mimetype": "text/x-python",
   "name": "python",
   "nbconvert_exporter": "python",
   "pygments_lexer": "ipython3",
   "version": "3.5.2"
  }
 },
 "nbformat": 4,
 "nbformat_minor": 2
}
