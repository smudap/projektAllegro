{
 "cells": [
  {
   "cell_type": "markdown",
   "metadata": {},
   "source": [
    "# Allegro Web API"
   ]
  },
  {
   "cell_type": "code",
   "execution_count": 1,
   "metadata": {
    "collapsed": true
   },
   "outputs": [],
   "source": [
    "import hashlib\n",
    "import base64\n",
    "import time\n",
    "import numpy as np\n",
    "import pandas as pd\n",
    "import pickle\n",
    "\n",
    "from suds.client import Client, WebFault"
   ]
  },
  {
   "cell_type": "code",
   "execution_count": 2,
   "metadata": {
    "collapsed": true
   },
   "outputs": [],
   "source": [
    "api_key = 'xxx'\n",
    "api_key_sandbox = 'xxx'\n",
    "login = 'xxx'\n",
    "password = 'xxx'"
   ]
  },
  {
   "cell_type": "code",
   "execution_count": 3,
   "metadata": {},
   "outputs": [],
   "source": [
    "# class AllegroWebAPI:\n",
    "#     API_URL_sandbox = 'https://webapi.allegro.pl.webapisandbox.pl/service.php?wsdl'\n",
    "#     API_URL = 'https://webapi.allegro.pl/service.php?wsdl'\n",
    "#     country_code = 1 # 1 dla Polski, 56 dla Czech, 209 dla Ukrainy\n",
    " \n",
    "#     def __init__(self, login, password, api_key):\n",
    "#         self.login = login\n",
    "#         self.password_enc = base64.b64encode(hashlib.sha256(password.encode('utf-8')).digest()).decode()\n",
    "#         self.api_key = api_key\n",
    "#         self.client = Client(self.API_URL)\n",
    "#         self.service = self.client.service\n",
    "#         self.version_key = self.get_version_by_country_code()\n",
    "#         self.item_id_list = []\n",
    "#         self.item_dict = {}\n",
    " \n",
    "#     def get_version_by_country_code(self):\n",
    "#         systems = self.service.doQueryAllSysStatus(**{\n",
    "#             'countryId': self.country_code,\n",
    "#             'webapiKey':self.api_key\n",
    "#         })[0]\n",
    " \n",
    "#         for sys in systems:\n",
    "#             if sys['countryId'] == self.country_code:\n",
    "#                 return sys['verKey']\n",
    " \n",
    "#     def sign_in_enc(self):\n",
    "#         try:\n",
    "#             self.session_id = self.service.doLoginEnc(\n",
    "#                 userLogin= self.login,\n",
    "#                 userHashPassword = self.password_enc,\n",
    "#                 countryCode = self.country_code,\n",
    "#                 webapiKey = self.api_key,\n",
    "#                 localVersion = self.version_key\n",
    "#             )\n",
    "#         except WebFault as e:\n",
    "#             print e\n",
    "            \n",
    "#     def get_categories_tree(self):\n",
    "#         self.categories_tree = self.service.doGetCatsData(self.country_code, self.version_key, self.api_key)\n",
    "    \n",
    "#     def get_books(self, filter_value_min=30, filter_value_max=31, result_size=200):\n",
    "#         self.item_last_cost = filter_value_min\n",
    "        \n",
    "#         for cost in np.arange(filter_value_min, filter_value_max, 0.10):\n",
    "            \n",
    "#             cost2 = cost + 0.099\n",
    "#             if cost2 > filter_value_max:\n",
    "#                 cost2 = filter_value_max\n",
    "#             self.item_last_cost = cost + 0.10\n",
    "            \n",
    "#             table = {'price': {'filterValueRange': [cost, cost2]},\n",
    "#                      'category': {'filterValueId': '79156'}\n",
    "#                     }\n",
    "#             filtr_query = api.client.factory.create('ArrayOfFilteroptionstype')\n",
    "\n",
    "#             for i in range(len(table)):\n",
    "#                 filtr = api.client.factory.create('FilterOptionsType')\n",
    "#                 filtr.filterId = table.keys()[i]\n",
    "#                 if 'filterValueId' in table.values()[i].keys():\n",
    "#                     filtrAOS = api.client.factory.create('ArrayOfString')\n",
    "#                     filtrAOS.item = table.values()[i].values()[0]\n",
    "#                     filtr.filterValueId = filtrAOS\n",
    "#                 if 'filterValueRange' in table.values()[i].keys():\n",
    "#                     filtrRVT = api.client.factory.create('RangeValueType')\n",
    "#                     filtrRVT.rangeValueMin = table.values()[i].values()[0][0]\n",
    "#                     filtrRVT.rangeValueMax = table.values()[i].values()[0][1]\n",
    "#                     filtr.filterValueRange = filtrRVT\n",
    "#                 filtr_query.item.append(filtr)\n",
    "\n",
    "#             item_list = api.service.doGetItemsList(api.api_key, api.country_code, filtr_query, resultSize = result_size)\n",
    "            \n",
    "#             print time.strftime(\"%A, %H:%M:%S\"), cost, cost + 0.099\n",
    "\n",
    "#             for item in item_list.itemsList.item:\n",
    "#                 item_id = item.itemId\n",
    "#                 item_title = item.itemTitle\n",
    "#                 if item_id not in self.item_dict.keys():\n",
    "#                     self.item_id_list.append(item_id)\n",
    "#                     self.item_dict[str(item_id)] = {'title': item_title}\n",
    "# #                     full_item = api.service.doShowItemInfoExt(api.session_id.sessionHandlePart, item_id, \n",
    "# #                                                               getDesc = 0).itemListInfoExt\n",
    "# #                     self.item_dict[str(item_id)] = {'name': full_item.itName, 'description': full_item.itDescription}\n",
    "    \n",
    "#     def get_books_until_done(self, filter_value_min=30, filter_value_max=31, result_size=200):\n",
    "#         try:\n",
    "#             api.get_books(filter_value_min, filter_value_max, result_size)\n",
    "#         except WebFault as e:\n",
    "#             print 'Probujemy po bledzie'\n",
    "#             api.sign_in_enc()\n",
    "#             api.get_books_until_done(api.item_last_cost, filter_value_max, result_size)\n",
    "            \n",
    "#     def transform_dict_to_DataFrame(self):\n",
    "#         df = pd.DataFrame(self.item_dict)\n",
    "#         df = df.transpose()\n",
    "#         self.item_DataFrame = df"
   ]
  },
  {
   "cell_type": "code",
   "execution_count": 4,
   "metadata": {
    "collapsed": true
   },
   "outputs": [],
   "source": [
    "class AllegroWebAPI:\n",
    "    API_URL_sandbox = 'https://webapi.allegro.pl.webapisandbox.pl/service.php?wsdl'\n",
    "    API_URL = 'https://webapi.allegro.pl/service.php?wsdl'\n",
    "    country_code = 1 # 1 dla Polski, 56 dla Czech, 209 dla Ukrainy\n",
    " \n",
    "    def __init__(self, login, password, api_key):\n",
    "        self.login = login\n",
    "        self.password_enc = base64.b64encode(hashlib.sha256(password.encode('utf-8')).digest()).decode()\n",
    "        self.api_key = api_key\n",
    "        self.client = Client(self.API_URL)\n",
    "        self.service = self.client.service\n",
    "        self.version_key = self.get_version_by_country_code()\n",
    "        self.item_id_list = []\n",
    "        self.item_dict = {}\n",
    "        self.item_offset = 0\n",
    " \n",
    "    def get_version_by_country_code(self):\n",
    "        systems = self.service.doQueryAllSysStatus(**{\n",
    "            'countryId': self.country_code,\n",
    "            'webapiKey':self.api_key\n",
    "        })[0]\n",
    " \n",
    "        for sys in systems:\n",
    "            if sys['countryId'] == self.country_code:\n",
    "                return sys['verKey']\n",
    " \n",
    "    def sign_in_enc(self):\n",
    "        try:\n",
    "            self.session_id = self.service.doLoginEnc(\n",
    "                userLogin= self.login,\n",
    "                userHashPassword = self.password_enc,\n",
    "                countryCode = self.country_code,\n",
    "                webapiKey = self.api_key,\n",
    "                localVersion = self.version_key\n",
    "            )\n",
    "        except WebFault as e:\n",
    "            print e\n",
    "            \n",
    "    def get_categories_tree(self):\n",
    "        self.categories_tree = self.service.doGetCatsData(self.country_code, self.version_key, self.api_key)\n",
    "    \n",
    "    def get_books(self, filter_value_min=30, filter_value_max=31, result_size=200):\n",
    "        \n",
    "        table = {'price': {'filterValueRange': [filter_value_min, filter_value_max]},\n",
    "                 'category': {'filterValueId': '79156'}\n",
    "                }\n",
    "        filtr_query = api.client.factory.create('ArrayOfFilteroptionstype')\n",
    "        for i in range(len(table)):\n",
    "            filtr = api.client.factory.create('FilterOptionsType')\n",
    "            filtr.filterId = table.keys()[i]\n",
    "            if 'filterValueId' in table.values()[i].keys():\n",
    "                filtrAOS = api.client.factory.create('ArrayOfString')\n",
    "                filtrAOS.item = table.values()[i].values()[0]\n",
    "                filtr.filterValueId = filtrAOS\n",
    "            if 'filterValueRange' in table.values()[i].keys():\n",
    "                filtrRVT = api.client.factory.create('RangeValueType')\n",
    "                filtrRVT.rangeValueMin = table.values()[i].values()[0][0]\n",
    "                filtrRVT.rangeValueMax = table.values()[i].values()[0][1]\n",
    "                filtr.filterValueRange = filtrRVT\n",
    "            filtr_query.item.append(filtr)\n",
    "            \n",
    "        item_list = self.service.doGetItemsList(self.api_key, self.country_code, filtr_query, resultSize = result_size)\n",
    "        \n",
    "        while hasattr(item_list, \"itemsList\"):\n",
    "            \n",
    "            print time.strftime(\"%A, %H:%M:%S\"), \"Offset: \", self.item_offset\n",
    "\n",
    "            for item in item_list.itemsList.item:\n",
    "                item_id = item.itemId\n",
    "                item_title = item.itemTitle\n",
    "                if item_id not in self.item_dict.keys():\n",
    "                    self.item_id_list.append(item_id)\n",
    "                    self.item_dict[str(item_id)] = {'title': item_title}\n",
    "            \n",
    "            self.item_offset = len(self.item_id_list)\n",
    "            item_list = self.service.doGetItemsList(self.api_key, self.country_code, filtr_query, \n",
    "                                                   resultSize = result_size, resultOffset = self.item_offset)\n",
    "    \n",
    "    def get_books_until_done(self, filter_value_min=30, filter_value_max=31, result_size=200):\n",
    "        try:\n",
    "            api.get_books(filter_value_min, filter_value_max, result_size)\n",
    "        except WebFault as e:\n",
    "            print 'Probujemy po bledzie'\n",
    "            api.sign_in_enc()\n",
    "            api.get_books_until_done(api.item_last_cost, filter_value_max, result_size)\n",
    "    \n",
    "    def get_top_n_books_query(self, query, filter_value_min=30, filter_value_max=31, top_n=200):\n",
    "        \n",
    "        self.item_top_n_id_list = []\n",
    "        self.item_top_n_dict = {}        \n",
    "        \n",
    "        table = {'price': {'filterValueRange': [filter_value_min, filter_value_max]},\n",
    "                 'category': {'filterValueId': '79156'},\n",
    "                 'search': {'filterValueId': query}\n",
    "                }\n",
    "        \n",
    "        filtr_query = api.client.factory.create('ArrayOfFilteroptionstype')\n",
    "        for i in range(len(table)):\n",
    "            filtr = api.client.factory.create('FilterOptionsType')\n",
    "            filtr.filterId = table.keys()[i]\n",
    "            if 'filterValueId' in table.values()[i].keys():\n",
    "                filtrAOS = api.client.factory.create('ArrayOfString')\n",
    "                filtrAOS.item = table.values()[i].values()[0]\n",
    "                filtr.filterValueId = filtrAOS\n",
    "            if 'filterValueRange' in table.values()[i].keys():\n",
    "                filtrRVT = api.client.factory.create('RangeValueType')\n",
    "                filtrRVT.rangeValueMin = table.values()[i].values()[0][0]\n",
    "                filtrRVT.rangeValueMax = table.values()[i].values()[0][1]\n",
    "                filtr.filterValueRange = filtrRVT\n",
    "            filtr_query.item.append(filtr)\n",
    "            \n",
    "        sort_query = api.client.factory.create('SortOptionsType')\n",
    "        sort_query.sortType = 'relevance'\n",
    "        sort_query.sortOrder = 'desc'\n",
    "        \n",
    "        item_list = self.service.doGetItemsList(self.api_key, self.country_code, filtr_query, sort_query, resultSize = top_n)\n",
    "        \n",
    "        for item in item_list.itemsList.item:\n",
    "            item_id = item.itemId\n",
    "            item_title = item.itemTitle\n",
    "            if item_id not in self.item_dict.keys():\n",
    "                self.item_top_n_id_list.append(item_id)\n",
    "                self.item_top_n_dict[str(item_id)] = {'title': item_title}\n",
    "    \n",
    "    def transform_dict_to_DataFrame(self, top_n = False):\n",
    "        if top_n:\n",
    "            df = pd.DataFrame(self.item_top_n_dict)\n",
    "            df = df.transpose()\n",
    "            self.item_top_n_DataFrame = df\n",
    "        else:\n",
    "            df = pd.DataFrame(self.item_dict)\n",
    "            df = df.transpose()\n",
    "            self.item_DataFrame = df"
   ]
  },
  {
   "cell_type": "code",
   "execution_count": 5,
   "metadata": {},
   "outputs": [],
   "source": [
    "api = AllegroWebAPI(login, password, api_key)\n",
    "api.sign_in_enc()"
   ]
  },
  {
   "cell_type": "code",
   "execution_count": 6,
   "metadata": {
    "scrolled": true
   },
   "outputs": [
    {
     "name": "stdout",
     "output_type": "stream",
     "text": [
      "Friday, 21:42:38 Offset:  0\n",
      "Friday, 21:43:05 Offset:  1000\n",
      "Friday, 21:43:19 Offset:  2000\n",
      "Friday, 21:43:39 Offset:  3000\n",
      "Friday, 21:44:03 Offset:  4000\n",
      "Friday, 21:44:24 Offset:  5000\n",
      "Friday, 21:44:41 Offset:  6000\n",
      "Friday, 21:45:04 Offset:  7000\n",
      "Friday, 21:45:18 Offset:  8000\n",
      "Friday, 21:45:34 Offset:  9000\n",
      "Friday, 21:45:56 Offset:  10000\n",
      "Friday, 21:46:18 Offset:  11000\n",
      "Friday, 21:46:42 Offset:  12000\n",
      "Friday, 21:46:56 Offset:  13000\n",
      "Friday, 21:47:11 Offset:  14000\n",
      "Friday, 21:47:31 Offset:  15000\n",
      "Friday, 21:47:48 Offset:  16000\n",
      "Friday, 21:48:02 Offset:  17000\n",
      "Friday, 21:48:19 Offset:  18000\n",
      "Friday, 21:48:34 Offset:  19000\n",
      "Friday, 21:48:56 Offset:  20000\n",
      "Friday, 21:49:18 Offset:  21000\n",
      "Friday, 21:49:33 Offset:  22000\n",
      "Friday, 21:49:47 Offset:  23000\n",
      "Friday, 21:50:10 Offset:  24000\n",
      "Friday, 21:50:27 Offset:  25000\n",
      "Friday, 21:50:42 Offset:  26000\n",
      "Friday, 21:50:59 Offset:  27000\n",
      "Friday, 21:51:15 Offset:  28000\n",
      "Friday, 21:51:31 Offset:  29000\n",
      "Friday, 21:51:49 Offset:  30000\n",
      "Friday, 21:52:20 Offset:  31000\n",
      "Friday, 21:52:37 Offset:  32000\n",
      "Friday, 21:52:53 Offset:  33000\n",
      "Friday, 21:53:10 Offset:  34000\n",
      "Friday, 21:53:36 Offset:  35000\n",
      "Friday, 21:53:52 Offset:  36000\n",
      "Friday, 21:54:09 Offset:  37000\n",
      "Friday, 21:54:30 Offset:  38000\n",
      "Friday, 21:54:47 Offset:  39000\n",
      "Friday, 21:55:05 Offset:  40000\n",
      "Friday, 21:55:21 Offset:  41000\n",
      "Friday, 21:55:46 Offset:  42000\n",
      "Friday, 21:56:04 Offset:  43000\n",
      "Friday, 21:56:21 Offset:  44000\n"
     ]
    }
   ],
   "source": [
    "api.get_books_until_done(0, 5000, 1000)"
   ]
  },
  {
   "cell_type": "code",
   "execution_count": 7,
   "metadata": {
    "collapsed": true
   },
   "outputs": [],
   "source": [
    "api.transform_dict_to_DataFrame()"
   ]
  },
  {
   "cell_type": "code",
   "execution_count": 8,
   "metadata": {},
   "outputs": [],
   "source": [
    "api.item_DataFrame.to_csv('titles_books.csv', encoding='utf-8')"
   ]
  },
  {
   "cell_type": "code",
   "execution_count": 9,
   "metadata": {
    "collapsed": true
   },
   "outputs": [],
   "source": [
    "with open('titles_books_DataFrame.pickle', 'wb') as handle:\n",
    "    b = pickle.dump(api.item_DataFrame, handle)"
   ]
  },
  {
   "cell_type": "code",
   "execution_count": 10,
   "metadata": {
    "collapsed": true
   },
   "outputs": [],
   "source": [
    "with open('titles_books_dict.pickle', 'wb') as handle:\n",
    "    b = pickle.dump(api.item_dict, handle)"
   ]
  },
  {
   "cell_type": "markdown",
   "metadata": {},
   "source": [
    "# Dodatkowy kod dla drzewa kategorii"
   ]
  },
  {
   "cell_type": "code",
   "execution_count": null,
   "metadata": {},
   "outputs": [],
   "source": [
    "api.categories_tree"
   ]
  },
  {
   "cell_type": "code",
   "execution_count": null,
   "metadata": {
    "scrolled": false
   },
   "outputs": [],
   "source": [
    "category_name = 'Książki i Komiksy'\n",
    "api.get_categories_tree()\n",
    "for category in api.categories_tree.catsList.item:\n",
    "    if category['catName'] == category_name:\n",
    "        category_id = category['catId']\n",
    "        break\n",
    "    "
   ]
  },
  {
   "cell_type": "code",
   "execution_count": null,
   "metadata": {},
   "outputs": [],
   "source": [
    "api.service.doGetCategoryPath(api.session_id.sessionHandlePart, 91459)"
   ]
  }
 ],
 "metadata": {
  "kernelspec": {
   "display_name": "Python [conda root]",
   "language": "python",
   "name": "conda-root-py"
  },
  "language_info": {
   "codemirror_mode": {
    "name": "ipython",
    "version": 2
   },
   "file_extension": ".py",
   "mimetype": "text/x-python",
   "name": "python",
   "nbconvert_exporter": "python",
   "pygments_lexer": "ipython2",
   "version": "2.7.13"
  }
 },
 "nbformat": 4,
 "nbformat_minor": 2
}
