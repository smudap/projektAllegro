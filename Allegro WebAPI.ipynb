{
 "cells": [
  {
   "cell_type": "markdown",
   "metadata": {},
   "source": [
    "# Allegro Web API"
   ]
  },
  {
   "cell_type": "code",
   "execution_count": 1,
   "metadata": {
    "collapsed": true
   },
   "outputs": [],
   "source": [
    "import hashlib\n",
    "import base64\n",
    "import time\n",
    "import numpy as np\n",
    "\n",
    "from suds.client import Client, WebFault"
   ]
  },
  {
   "cell_type": "code",
   "execution_count": 2,
   "metadata": {
    "collapsed": true
   },
   "outputs": [],
   "source": [
    "api_key = 'xxx'\n",
    "api_key_sandbox = 'xxx'\n",
    "login = \"xxx\"\n",
    "password = \"xxx\""
   ]
  },
  {
   "cell_type": "code",
   "execution_count": 3,
   "metadata": {
    "collapsed": false
   },
   "outputs": [],
   "source": [
    "class AllegroWebAPI:\n",
    "    API_URL_sandbox = 'https://webapi.allegro.pl.webapisandbox.pl/service.php?wsdl'\n",
    "    API_URL = 'https://webapi.allegro.pl/service.php?wsdl'\n",
    "    country_code = 1 # 1 dla Polski, 56 dla Czech, 209 dla Ukrainy\n",
    " \n",
    "    def __init__(self, login, password, api_key):\n",
    "        self.login = login\n",
    "        self.password_enc = base64.b64encode(hashlib.sha256(password.encode('utf-8')).digest()).decode()\n",
    "        self.api_key = api_key\n",
    "        self.client = Client(self.API_URL)\n",
    "        self.service = self.client.service\n",
    "        self.version_key = self.get_version_by_country_code()\n",
    "        self.item_id_list = []\n",
    "        self.item_dict = {}\n",
    " \n",
    "    def get_version_by_country_code(self):\n",
    "        systems = self.service.doQueryAllSysStatus(**{\n",
    "            'countryId': self.country_code,\n",
    "            'webapiKey':self.api_key\n",
    "        })[0]\n",
    " \n",
    "        for sys in systems:\n",
    "            if sys['countryId'] == self.country_code:\n",
    "                return sys['verKey']\n",
    " \n",
    "    def sign_in_enc(self):\n",
    "        try:\n",
    "            self.session_id = self.service.doLoginEnc(\n",
    "                userLogin= self.login,\n",
    "                userHashPassword = self.password_enc,\n",
    "                countryCode = self.country_code,\n",
    "                webapiKey = self.api_key,\n",
    "                localVersion = self.version_key\n",
    "            )\n",
    "        except WebFault as e:\n",
    "            print e\n",
    "            \n",
    "    def get_categories_tree(self):\n",
    "        self.categories_tree = self.service.doGetCatsData(self.country_code, self.version_key, self.api_key)\n",
    "    \n",
    "    def get_books(self, filter_value_min=30, filter_value_max=31, result_size=200):\n",
    "        self.item_last_cost = filter_value_min\n",
    "        \n",
    "        for cost in np.arange(filter_value_min, filter_value_max, 0.25):\n",
    "            \n",
    "            cost2 = cost + 0.249\n",
    "            if cost2 > filter_value_max:\n",
    "                cost2 = filter_value_max\n",
    "            self.item_last_cost = cost + 0.25\n",
    "            \n",
    "            table = {'price': {'filterValueRange': [cost, cost2]},\n",
    "                     'category': {'filterValueId': '91459'}\n",
    "                    }\n",
    "            filtr_query = api.client.factory.create('ArrayOfFilteroptionstype')\n",
    "\n",
    "            for i in range(len(table)):\n",
    "                filtr = api.client.factory.create('FilterOptionsType')\n",
    "                filtr.filterId = table.keys()[i]\n",
    "                if 'filterValueId' in table.values()[i].keys():\n",
    "                    filtrAOS = api.client.factory.create('ArrayOfString')\n",
    "                    filtrAOS.item = table.values()[i].values()[0]\n",
    "                    filtr.filterValueId = filtrAOS\n",
    "                if 'filterValueRange' in table.values()[i].keys():\n",
    "                    filtrRVT = api.client.factory.create('RangeValueType')\n",
    "                    filtrRVT.rangeValueMin = table.values()[i].values()[0][0]\n",
    "                    filtrRVT.rangeValueMax = table.values()[i].values()[0][1]\n",
    "                    filtr.filterValueRange = filtrRVT\n",
    "                filtr_query.item.append(filtr)\n",
    "\n",
    "            item_list = api.service.doGetItemsList(api.api_key, api.country_code, filtr_query, resultSize = result_size)\n",
    "            \n",
    "            print time.strftime(\"%A, %H:%M:%S\"), cost, cost + 0.249\n",
    "\n",
    "            for item in item_list.itemsList.item:\n",
    "                item_id = item.itemId\n",
    "                if item_id not in self.item_dict.keys():\n",
    "                    self.item_id_list.append(item_id)\n",
    "                    full_item = api.service.doShowItemInfoExt(api.session_id.sessionHandlePart, item_id, \n",
    "                                                              getDesc = 1).itemListInfoExt\n",
    "                    self.item_dict[str(item_id)] = {'name': full_item.itName, 'description': full_item.itDescription}\n",
    "    \n",
    "    def get_books_until_done(self, filter_value_min=30, filter_value_max=31, result_size=200):\n",
    "        try:\n",
    "            api.get_books(filter_value_min, filter_value_max, result_size)\n",
    "        except WebFault as e:\n",
    "            print 'Probujemy po bledzie'\n",
    "            api.sign_in_enc()\n",
    "            api.get_books_until_done(api.item_last_cost, filter_value_max, result_size)"
   ]
  },
  {
   "cell_type": "code",
   "execution_count": 4,
   "metadata": {
    "collapsed": false
   },
   "outputs": [],
   "source": [
    "api = AllegroWebAPI(login, password, api_key)\n",
    "api.sign_in_enc()"
   ]
  },
  {
   "cell_type": "code",
   "execution_count": 5,
   "metadata": {
    "collapsed": false,
    "scrolled": true
   },
   "outputs": [
    {
     "name": "stdout",
     "output_type": "stream",
     "text": [
      "Sunday, 11:30:53 25.0 25.249\n"
     ]
    },
    {
     "name": "stderr",
     "output_type": "stream",
     "text": [
      "No handlers could be found for logger \"suds.client\"\n"
     ]
    },
    {
     "name": "stdout",
     "output_type": "stream",
     "text": [
      "Probujemy po bledzie\n",
      "Sunday, 11:31:18 25.25 25.499\n",
      "Sunday, 11:31:38 25.5 25.749\n",
      "Sunday, 11:32:32 25.75 25.999\n",
      "Sunday, 11:33:54 26.0 26.249\n",
      "Sunday, 11:35:21 26.25 26.499\n",
      "Sunday, 11:36:34 26.5 26.749\n",
      "Sunday, 11:37:39 26.75 26.999\n",
      "Sunday, 11:39:02 27.0 27.249\n",
      "Sunday, 11:40:30 27.25 27.499\n",
      "Sunday, 11:41:56 27.5 27.749\n",
      "Sunday, 11:43:19 27.75 27.999\n",
      "Sunday, 11:44:41 28.0 28.249\n",
      "Probujemy po bledzie\n",
      "Sunday, 11:45:02 28.25 28.499\n",
      "Sunday, 11:45:34 28.5 28.749\n",
      "Sunday, 11:46:05 28.75 28.999\n",
      "Sunday, 11:46:51 29.0 29.249\n",
      "Sunday, 11:48:05 29.25 29.499\n",
      "Sunday, 11:49:03 29.5 29.749\n",
      "Sunday, 11:49:52 29.75 29.999\n",
      "Probujemy po bledzie\n",
      "Sunday, 11:50:43 30.0 30.249\n",
      "Sunday, 11:51:55 30.25 30.499\n",
      "Sunday, 11:53:07 30.5 30.749\n",
      "Sunday, 11:53:26 30.75 30.999\n",
      "Sunday, 11:54:40 31.0 31.249\n",
      "Sunday, 11:55:56 31.25 31.499\n",
      "Sunday, 11:56:46 31.5 31.749\n",
      "Sunday, 11:58:00 31.75 31.999\n",
      "Sunday, 11:59:04 32.0 32.249\n",
      "Sunday, 12:00:18 32.25 32.499\n",
      "Sunday, 12:00:54 32.5 32.749\n",
      "Sunday, 12:01:51 32.75 32.999\n",
      "Sunday, 12:02:58 33.0 33.249\n",
      "Sunday, 12:04:14 33.25 33.499\n",
      "Sunday, 12:05:00 33.5 33.749\n",
      "Sunday, 12:06:13 33.75 33.999\n",
      "Sunday, 12:07:22 34.0 34.249\n",
      "Sunday, 12:08:25 34.25 34.499\n",
      "Sunday, 12:09:06 34.5 34.749\n",
      "Sunday, 12:10:19 34.75 34.999\n",
      "Sunday, 12:11:34 35.0 35.249\n",
      "Probujemy po bledzie\n",
      "Sunday, 12:11:57 35.25 35.499\n",
      "Sunday, 12:12:25 35.5 35.749\n",
      "Sunday, 12:13:40 35.75 35.999\n",
      "Sunday, 12:14:57 36.0 36.249\n",
      "Sunday, 12:16:16 36.25 36.499\n",
      "Sunday, 12:16:38 36.5 36.749\n",
      "Sunday, 12:17:19 36.75 36.999\n",
      "Sunday, 12:18:37 37.0 37.249\n",
      "Sunday, 12:19:56 37.25 37.499\n",
      "Sunday, 12:20:50 37.5 37.749\n",
      "Sunday, 12:22:06 37.75 37.999\n",
      "Sunday, 12:23:20 38.0 38.249\n",
      "Sunday, 12:24:40 38.25 38.499\n",
      "Sunday, 12:25:56 38.5 38.749\n",
      "Sunday, 12:27:22 38.75 38.999\n",
      "Sunday, 12:28:37 39.0 39.249\n",
      "Probujemy po bledzie\n",
      "Sunday, 12:28:50 39.25 39.499\n",
      "Sunday, 12:29:31 39.5 39.749\n",
      "Sunday, 12:30:06 39.75 39.999\n",
      "Sunday, 12:31:29 40.0 40.249\n",
      "Probujemy po bledzie\n",
      "Sunday, 12:32:19 40.25 40.499\n",
      "Sunday, 12:32:48 40.5 40.749\n",
      "Sunday, 12:33:52 40.75 40.999\n",
      "Sunday, 12:35:09 41.0 41.249\n",
      "Sunday, 12:36:25 41.25 41.499\n",
      "Sunday, 12:36:59 41.5 41.749\n",
      "Sunday, 12:37:39 41.75 41.999\n",
      "Sunday, 12:38:27 42.0 42.249\n",
      "Probujemy po bledzie\n",
      "Sunday, 12:38:41 42.25 42.499\n",
      "Sunday, 12:39:34 42.5 42.749\n",
      "Sunday, 12:40:56 42.75 42.999\n",
      "Sunday, 12:42:26 43.0 43.249\n",
      "Sunday, 12:43:54 43.25 43.499\n",
      "Sunday, 12:45:19 43.5 43.749\n",
      "Sunday, 12:46:54 43.75 43.999\n",
      "Sunday, 12:48:20 44.0 44.249\n",
      "Sunday, 12:49:57 44.25 44.499\n",
      "Sunday, 12:51:27 44.5 44.749\n",
      "Sunday, 12:52:50 44.75 44.999\n",
      "Sunday, 12:54:15 45.0 45.249\n",
      "Probujemy po bledzie\n",
      "Sunday, 12:54:28 45.25 45.499\n",
      "Sunday, 12:55:41 45.5 45.749\n",
      "Sunday, 12:56:53 45.75 45.999\n",
      "Sunday, 12:58:10 46.0 46.249\n",
      "Sunday, 12:59:29 46.25 46.499\n",
      "Sunday, 13:00:45 46.5 46.749\n",
      "Sunday, 13:01:55 46.75 46.999\n",
      "Sunday, 13:03:11 47.0 47.249\n",
      "Sunday, 13:04:33 47.25 47.499\n",
      "Sunday, 13:05:54 47.5 47.749\n",
      "Sunday, 13:07:08 47.75 47.999\n",
      "Sunday, 13:08:19 48.0 48.249\n",
      "Sunday, 13:09:35 48.25 48.499\n",
      "Sunday, 13:10:41 48.5 48.749\n",
      "Sunday, 13:11:44 48.75 48.999\n",
      "Sunday, 13:12:57 49.0 49.249\n",
      "Probujemy po bledzie\n",
      "Sunday, 13:13:11 49.25 49.499\n",
      "Sunday, 13:14:22 49.5 49.749\n",
      "Sunday, 13:15:36 49.75 49.999\n",
      "Sunday, 13:16:51 50.0 50.249\n",
      "Probujemy po bledzie\n",
      "Sunday, 13:17:12 50.25 50.499\n",
      "Sunday, 13:18:45 50.5 50.749\n",
      "Sunday, 13:19:59 50.75 50.999\n",
      "Sunday, 13:21:20 51.0 51.249\n",
      "Sunday, 13:22:42 51.25 51.499\n",
      "Sunday, 13:24:02 51.5 51.749\n",
      "Sunday, 13:25:22 51.75 51.999\n",
      "Sunday, 13:26:44 52.0 52.249\n",
      "Sunday, 13:28:07 52.25 52.499\n",
      "Sunday, 13:29:24 52.5 52.749\n",
      "Sunday, 13:30:47 52.75 52.999\n",
      "Sunday, 13:32:08 53.0 53.249\n",
      "Sunday, 13:33:30 53.25 53.499\n",
      "Sunday, 13:34:51 53.5 53.749\n",
      "Sunday, 13:36:14 53.75 53.999\n",
      "Sunday, 13:37:35 54.0 54.249\n",
      "Sunday, 13:39:00 54.25 54.499\n",
      "Sunday, 13:40:21 54.5 54.749\n",
      "Sunday, 13:41:40 54.75 54.999\n"
     ]
    }
   ],
   "source": [
    "api.get_books_until_done(25, 55)"
   ]
  },
  {
   "cell_type": "code",
   "execution_count": 6,
   "metadata": {
    "collapsed": true
   },
   "outputs": [],
   "source": [
    "import pickle\n",
    "\n",
    "with open('list_dict.pickle', 'wb') as handle:\n",
    "    b = pickle.dump(api.item_dict, handle)"
   ]
  },
  {
   "cell_type": "code",
   "execution_count": 12,
   "metadata": {
    "collapsed": false
   },
   "outputs": [
    {
     "data": {
      "text/plain": [
       "19851"
      ]
     },
     "execution_count": 12,
     "metadata": {},
     "output_type": "execute_result"
    }
   ],
   "source": [
    "len(api.item_id_list)"
   ]
  },
  {
   "cell_type": "markdown",
   "metadata": {},
   "source": [
    "# Dodatkowy kod dla drzewa kategorii"
   ]
  },
  {
   "cell_type": "code",
   "execution_count": null,
   "metadata": {
    "collapsed": false
   },
   "outputs": [],
   "source": [
    "api.categories_tree"
   ]
  },
  {
   "cell_type": "code",
   "execution_count": null,
   "metadata": {
    "collapsed": false,
    "scrolled": false
   },
   "outputs": [],
   "source": [
    "category_name = \"Książki i Komiksy\"\n",
    "api.get_categories_tree()\n",
    "for category in api.categories_tree.catsList.item:\n",
    "    if category[\"catName\"] == category_name:\n",
    "        category_id = category[\"catId\"]\n",
    "        break\n",
    "    "
   ]
  },
  {
   "cell_type": "code",
   "execution_count": null,
   "metadata": {
    "collapsed": false
   },
   "outputs": [],
   "source": [
    "api.service.doGetCategoryPath(api.session_id.sessionHandlePart, 91459)"
   ]
  }
 ],
 "metadata": {
  "kernelspec": {
   "display_name": "Python 2",
   "language": "python",
   "name": "python2"
  },
  "language_info": {
   "codemirror_mode": {
    "name": "ipython",
    "version": 2
   },
   "file_extension": ".py",
   "mimetype": "text/x-python",
   "name": "python",
   "nbconvert_exporter": "python",
   "pygments_lexer": "ipython2",
   "version": "2.7.13"
  }
 },
 "nbformat": 4,
 "nbformat_minor": 2
}
