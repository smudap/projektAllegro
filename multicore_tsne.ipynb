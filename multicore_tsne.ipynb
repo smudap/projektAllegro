{
 "cells": [
  {
   "cell_type": "code",
   "execution_count": 1,
   "metadata": {
    "collapsed": false
   },
   "outputs": [
    {
     "name": "stdout",
     "output_type": "stream",
     "text": [
      "3.5.2 |Anaconda custom (64-bit)| (default, Jul  2 2016, 17:53:06) \n",
      "[GCC 4.4.7 20120313 (Red Hat 4.4.7-1)]\n"
     ]
    }
   ],
   "source": [
    "import sys\n",
    "print(sys.version)"
   ]
  },
  {
   "cell_type": "code",
   "execution_count": 2,
   "metadata": {
    "collapsed": true
   },
   "outputs": [],
   "source": [
    "import pandas as pd\n",
    "import numpy as np\n",
    "import matplotlib.pyplot as plt"
   ]
  },
  {
   "cell_type": "code",
   "execution_count": 3,
   "metadata": {
    "collapsed": false
   },
   "outputs": [],
   "source": [
    "from gensim.models import Word2Vec"
   ]
  },
  {
   "cell_type": "code",
   "execution_count": 4,
   "metadata": {
    "collapsed": true
   },
   "outputs": [],
   "source": [
    "from sklearn.manifold import t_sne"
   ]
  },
  {
   "cell_type": "code",
   "execution_count": 5,
   "metadata": {
    "collapsed": true
   },
   "outputs": [],
   "source": [
    "from MulticoreTSNE import MulticoreTSNE"
   ]
  },
  {
   "cell_type": "markdown",
   "metadata": {},
   "source": [
    "#### Data loading"
   ]
  },
  {
   "cell_type": "code",
   "execution_count": 6,
   "metadata": {
    "collapsed": true
   },
   "outputs": [],
   "source": [
    "import re\n",
    "def getWords(text, stopwords):\n",
    "    splitted_text = text.split()\n",
    "    new_splitted_text = []\n",
    "    for item in splitted_text:\n",
    "        if len(item) == 1:\n",
    "            item = item.lower()\n",
    "        new_splitted_text.append(item)\n",
    "    new_text = \" \".join(new_splitted_text)\n",
    "    new_text = re.sub(\"\\.\", \" \", new_text)\n",
    "    new_text = re.sub(\"_\", \"\", new_text)\n",
    "    new_text = re.sub(\"(?<= [A-Z]{1}) +((?=[A-Z] )|(?=[A-Z]$))\", \"\", new_text)\n",
    "    all_words = re.compile('\\w+').findall(new_text)\n",
    "    return [words.lower() for words in all_words if len(words)>1 and words.lower() not in stopwords]"
   ]
  },
  {
   "cell_type": "code",
   "execution_count": 7,
   "metadata": {
    "collapsed": true
   },
   "outputs": [],
   "source": [
    "stopwords = pd.read_csv(\"stopwords.csv\").as_matrix()\n",
    "stopwords.resize(stopwords.shape[0])"
   ]
  },
  {
   "cell_type": "code",
   "execution_count": 8,
   "metadata": {
    "collapsed": false,
    "scrolled": true
   },
   "outputs": [],
   "source": [
    "train_data = pd.read_csv(\"titles_books.csv\")\n",
    "test_data = pd.read_csv(\"test_data.csv\")\n",
    "train_titles = [getWords(title, stopwords) for title in train_data.title]\n",
    "test_titles = [title for title in test_data.title]\n",
    "\n",
    "i = 0\n",
    "labels = [0]\n",
    "for j in range(test_data.shape[0])[1:]:\n",
    "    if test_data.book_title[j-1]!=test_data.book_title[j]:\n",
    "        i += 1\n",
    "    labels.append(i)\n",
    "test_data['label'] = labels"
   ]
  },
  {
   "cell_type": "markdown",
   "metadata": {},
   "source": [
    "#### Model training"
   ]
  },
  {
   "cell_type": "code",
   "execution_count": 9,
   "metadata": {
    "collapsed": true
   },
   "outputs": [],
   "source": [
    "VECTOR_DIM = 32"
   ]
  },
  {
   "cell_type": "code",
   "execution_count": 10,
   "metadata": {
    "collapsed": false
   },
   "outputs": [],
   "source": [
    "model = Word2Vec(train_titles, size=VECTOR_DIM, min_count=0)"
   ]
  },
  {
   "cell_type": "code",
   "execution_count": 11,
   "metadata": {
    "collapsed": false
   },
   "outputs": [
    {
     "data": {
      "text/plain": [
       "[('regiment', 0.9942148327827454),\n",
       " ('ruch', 0.9931845664978027),\n",
       " ('ruchome', 0.993017315864563),\n",
       " ('para', 0.9927998781204224),\n",
       " ('jugulum', 0.9924675226211548),\n",
       " ('ciekawe', 0.9924342632293701),\n",
       " ('kosiarz', 0.99152672290802),\n",
       " ('mort', 0.9905078411102295),\n",
       " ('potworny', 0.9900221824645996),\n",
       " ('elefant', 0.9899853467941284),\n",
       " ('wolni', 0.989794135093689),\n",
       " ('pratchett', 0.9893941879272461),\n",
       " ('cohen', 0.9890822172164917),\n",
       " ('czarodzicielstwo', 0.9878342747688293),\n",
       " ('carpe', 0.9864664077758789),\n",
       " ('ciut', 0.9860356450080872),\n",
       " ('dysku', 0.9855395555496216),\n",
       " ('piramidy', 0.9842520952224731),\n",
       " ('maskarada', 0.9842439293861389),\n",
       " ('straż', 0.9841561317443848)]"
      ]
     },
     "execution_count": 11,
     "metadata": {},
     "output_type": "execute_result"
    }
   ],
   "source": [
    "model.similar_by_word(word=\"zbrojni\".lower(), topn=20)"
   ]
  },
  {
   "cell_type": "code",
   "execution_count": 12,
   "metadata": {
    "collapsed": true
   },
   "outputs": [],
   "source": [
    "def get_word_score(model, word):\n",
    "    try:\n",
    "        score = model.wv[word]\n",
    "    except:\n",
    "        score = np.repeat(np.nan, repeats=VECTOR_DIM)\n",
    "    return score\n",
    "\n",
    "def get_title_score(model, title, stopwords):\n",
    "    title_parsed = getWords(title, stopwords)\n",
    "    mean_score = np.nanmean([get_word_score(model, i) for i in title_parsed], axis = 0) #nanmean to jak na.rm=TRUE w R\n",
    "    return mean_score"
   ]
  },
  {
   "cell_type": "code",
   "execution_count": 13,
   "metadata": {
    "collapsed": false
   },
   "outputs": [
    {
     "data": {
      "text/plain": [
       "76.281982"
      ]
     },
     "execution_count": 13,
     "metadata": {},
     "output_type": "execute_result"
    }
   ],
   "source": [
    "v1 = get_title_score(model, \"Tolkien - Władca pierścieni - Trylogia\", stopwords)\n",
    "v2 = get_title_score(model, \"NAUKA ŚWIATA DYSKU I - Terry Pratchett\", stopwords)\n",
    "np.sum((v1-v2)**2)"
   ]
  },
  {
   "cell_type": "code",
   "execution_count": 14,
   "metadata": {
    "collapsed": false
   },
   "outputs": [],
   "source": [
    "#vectorized_titles = np.array([get_title_score(model, title, stopwords) for title in train_data.title])\n",
    "vectorized_test_titles = np.array([get_title_score(model, title, stopwords) for title in test_data.title])"
   ]
  },
  {
   "cell_type": "code",
   "execution_count": 15,
   "metadata": {
    "collapsed": false
   },
   "outputs": [],
   "source": [
    "#vectorized_titles_sample = vectorized_titles[np.random.choice(vectorized_titles.shape[0], size = 20000, replace = False)]"
   ]
  },
  {
   "cell_type": "markdown",
   "metadata": {
    "collapsed": true
   },
   "source": [
    "#### T-SNE visualizations"
   ]
  },
  {
   "cell_type": "code",
   "execution_count": 16,
   "metadata": {
    "collapsed": false,
    "scrolled": true
   },
   "outputs": [],
   "source": [
    "tsne_transformer = MulticoreTSNE(verbose = 1, n_jobs=4, perplexity=25)"
   ]
  },
  {
   "cell_type": "code",
   "execution_count": 17,
   "metadata": {
    "collapsed": false
   },
   "outputs": [],
   "source": [
    "tnsed_titles = tsne_transformer.fit_transform(vectorized_test_titles.astype(np.float64))"
   ]
  },
  {
   "cell_type": "code",
   "execution_count": 37,
   "metadata": {
    "collapsed": false
   },
   "outputs": [
    {
     "name": "stderr",
     "output_type": "stream",
     "text": [
      "INFO:bokeh.core.state:Session output file 'bokeh_vis/test_data_bokeh_vis.html' already exists, will be overwritten.\n"
     ]
    }
   ],
   "source": [
    "from bokeh.plotting import figure, output_file, show, ColumnDataSource\n",
    "from bokeh.models import HoverTool, CategoricalColorMapper\n",
    "from bokeh.palettes import inferno, Category20, Category20c, Category20b, Category10\n",
    "\n",
    "output_file(\"bokeh_vis/test_data_bokeh_vis.html\")\n",
    "\n",
    "source = ColumnDataSource(\n",
    "        data=dict(\n",
    "            x=tnsed_titles[:, 0],\n",
    "            y=tnsed_titles[:, 1],\n",
    "            desc=test_titles,\n",
    "            label = [i for i in test_data.label]\n",
    "        )\n",
    "    )\n",
    "color_mapper = CategoricalColorMapper(factors=[i for i in test_data.label.unique()], palette=Category10[10]*5)\n",
    "\n",
    "hover = HoverTool(\n",
    "        tooltips=[\n",
    "            (\"index\", \"$index\"),\n",
    "            (\"(x,y)\", \"($x, $y)\"),\n",
    "            (\"desc\", \"@desc\"),\n",
    "            (\"label\", \"@label\")\n",
    "        ]\n",
    "    )\n",
    "\n",
    "p = figure(plot_width=600, plot_height=600, tools=[hover],\n",
    "           title=\"Mouse over the dots\")\n",
    "\n",
    "p.circle('x', 'y', size=2, source=source, color={'field': 'label', 'transform': color_mapper})\n",
    "\n",
    "show(p)"
   ]
  },
  {
   "cell_type": "code",
   "execution_count": 19,
   "metadata": {
    "collapsed": false
   },
   "outputs": [],
   "source": [
    "from bokeh.io import show\n",
    "from bokeh.models import ColumnDataSource, CategoricalColorMapper\n",
    "from bokeh.palettes import RdBu3\n",
    "from bokeh.plotting import figure\n",
    "\n",
    "source = ColumnDataSource(dict(\n",
    "    x=[1, 2, 3, 4, 5, 6],\n",
    "    y=[2, 1, 2, 1, 2, 1],\n",
    "    label=['hi', 'lo', 'hi', 'lo', 'hi', 'lo']\n",
    "))\n",
    "color_mapper = CategoricalColorMapper(factors=['hi', 'lo'], palette=[RdBu3[2], RdBu3[0]])\n",
    "\n",
    "p = figure(x_range=(0, 7), y_range=(0, 3), height=300, tools='save')\n",
    "p.circle(\n",
    "    x='x', y='y', radius=0.5, source=source,\n",
    "    fill_color={'field': 'label', 'transform': color_mapper},\n",
    "    legend='label'\n",
    ")\n",
    "show(p)"
   ]
  },
  {
   "cell_type": "code",
   "execution_count": null,
   "metadata": {
    "collapsed": true
   },
   "outputs": [],
   "source": []
  }
 ],
 "metadata": {
  "anaconda-cloud": {},
  "kernelspec": {
   "display_name": "Python [conda root]",
   "language": "python",
   "name": "conda-root-py"
  },
  "language_info": {
   "codemirror_mode": {
    "name": "ipython",
    "version": 3
   },
   "file_extension": ".py",
   "mimetype": "text/x-python",
   "name": "python",
   "nbconvert_exporter": "python",
   "pygments_lexer": "ipython3",
   "version": "3.5.2"
  }
 },
 "nbformat": 4,
 "nbformat_minor": 2
}
