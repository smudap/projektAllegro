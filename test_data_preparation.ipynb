{
 "cells": [
  {
   "cell_type": "code",
   "execution_count": 1,
   "metadata": {
    "collapsed": true
   },
   "outputs": [],
   "source": [
    "import hashlib\n",
    "import base64\n",
    "import time\n",
    "import numpy as np\n",
    "import pandas as pd\n",
    "import pickle\n",
    "\n",
    "from suds.client import Client, WebFault\n",
    "from AllegroWebAPI import AllegroWebAPI"
   ]
  },
  {
   "cell_type": "code",
   "execution_count": 2,
   "metadata": {
    "collapsed": true
   },
   "outputs": [],
   "source": [
    "api_key = 'xxx'\n",
    "api_key_sandbox = 'xxx'\n",
    "login = 'xxx'\n",
    "password = 'xxx'\n"
   ]
  },
  {
   "cell_type": "code",
   "execution_count": 3,
   "metadata": {
    "collapsed": true
   },
   "outputs": [],
   "source": [
    "api = AllegroWebAPI(login, password, api_key)\n",
    "api.sign_in_enc()"
   ]
  },
  {
   "cell_type": "code",
   "execution_count": 6,
   "metadata": {
    "collapsed": true
   },
   "outputs": [],
   "source": [
    "query_data = pd.read_csv(\"book_querys.csv\")"
   ]
  },
  {
   "cell_type": "code",
   "execution_count": 20,
   "metadata": {
    "collapsed": true
   },
   "outputs": [],
   "source": [
    "def get_query_results_from_row(row, api, top_n = 20):\n",
    "    current_query = \" \".join(row)\n",
    "    api.get_top_n_books_query(current_query,0, 200, top_n = top_n)\n",
    "    api.transform_dict_to_DataFrame(True)\n",
    "    results = api.item_top_n_DataFrame\n",
    "    results['author'] = row[0]\n",
    "    results['book_title'] = row[1]\n",
    "    return results"
   ]
  },
  {
   "cell_type": "code",
   "execution_count": 22,
   "metadata": {},
   "outputs": [
    {
     "data": {
      "text/html": [
       "<div>\n",
       "<style>\n",
       "    .dataframe thead tr:only-child th {\n",
       "        text-align: right;\n",
       "    }\n",
       "\n",
       "    .dataframe thead th {\n",
       "        text-align: left;\n",
       "    }\n",
       "\n",
       "    .dataframe tbody tr th {\n",
       "        vertical-align: top;\n",
       "    }\n",
       "</style>\n",
       "<table border=\"1\" class=\"dataframe\">\n",
       "  <thead>\n",
       "    <tr style=\"text-align: right;\">\n",
       "      <th></th>\n",
       "      <th>title</th>\n",
       "      <th>author</th>\n",
       "      <th>book_title</th>\n",
       "    </tr>\n",
       "  </thead>\n",
       "  <tbody>\n",
       "    <tr>\n",
       "      <th>5212624405</th>\n",
       "      <td>WIEDŹMIN. OSTATNIE ŻYCZENIE - Andrzej Sapkowsk...</td>\n",
       "      <td>Sapkowski</td>\n",
       "      <td>Ostatnie Życzenie</td>\n",
       "    </tr>\n",
       "    <tr>\n",
       "      <th>5566813618</th>\n",
       "      <td>Ostatnie życzenie - Andrzej Sapkowski wiedźmin</td>\n",
       "      <td>Sapkowski</td>\n",
       "      <td>Ostatnie Życzenie</td>\n",
       "    </tr>\n",
       "    <tr>\n",
       "      <th>5697678702</th>\n",
       "      <td>Ostatnie życzenie + Miecz przeznaczenia Sapkowski</td>\n",
       "      <td>Sapkowski</td>\n",
       "      <td>Ostatnie Życzenie</td>\n",
       "    </tr>\n",
       "    <tr>\n",
       "      <th>5822470003</th>\n",
       "      <td>ksiazka-OSTATNIE ŻYCZENIE WIEDŹMIN - Sapkowski</td>\n",
       "      <td>Sapkowski</td>\n",
       "      <td>Ostatnie Życzenie</td>\n",
       "    </tr>\n",
       "    <tr>\n",
       "      <th>6629328672</th>\n",
       "      <td>SAPKOWSKI Wiedźmin 1 OSTATNIE ŻYCZENIE</td>\n",
       "      <td>Sapkowski</td>\n",
       "      <td>Ostatnie Życzenie</td>\n",
       "    </tr>\n",
       "  </tbody>\n",
       "</table>\n",
       "</div>"
      ],
      "text/plain": [
       "                                                        title     author  \\\n",
       "5212624405  WIEDŹMIN. OSTATNIE ŻYCZENIE - Andrzej Sapkowsk...  Sapkowski   \n",
       "5566813618     Ostatnie życzenie - Andrzej Sapkowski wiedźmin  Sapkowski   \n",
       "5697678702  Ostatnie życzenie + Miecz przeznaczenia Sapkowski  Sapkowski   \n",
       "5822470003     ksiazka-OSTATNIE ŻYCZENIE WIEDŹMIN - Sapkowski  Sapkowski   \n",
       "6629328672             SAPKOWSKI Wiedźmin 1 OSTATNIE ŻYCZENIE  Sapkowski   \n",
       "\n",
       "                    book_title  \n",
       "5212624405   Ostatnie Życzenie  \n",
       "5566813618   Ostatnie Życzenie  \n",
       "5697678702   Ostatnie Życzenie  \n",
       "5822470003   Ostatnie Życzenie  \n",
       "6629328672   Ostatnie Życzenie  "
      ]
     },
     "execution_count": 22,
     "metadata": {},
     "output_type": "execute_result"
    }
   ],
   "source": [
    "data = pd.concat([get_query_results_from_row(row[1:3], api) for row in query_data.itertuples()])\n",
    "data.head()"
   ]
  },
  {
   "cell_type": "code",
   "execution_count": 24,
   "metadata": {},
   "outputs": [],
   "source": [
    "data.to_csv(\"test_data.csv\", encoding='utf-8')"
   ]
  },
  {
   "cell_type": "code",
   "execution_count": null,
   "metadata": {
    "collapsed": true
   },
   "outputs": [],
   "source": []
  }
 ],
 "metadata": {
  "anaconda-cloud": {},
  "kernelspec": {
   "display_name": "Python [conda env:python27]",
   "language": "python",
   "name": "conda-env-python27-py"
  }
 },
 "nbformat": 4,
 "nbformat_minor": 2
}
