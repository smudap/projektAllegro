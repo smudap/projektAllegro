{
 "cells": [
  {
   "cell_type": "code",
   "execution_count": 1,
   "metadata": {},
   "outputs": [
    {
     "data": {
      "text/plain": [
       "'3.6.0 |Anaconda 4.3.1 (64-bit)| (default, Dec 23 2016, 11:57:41) [MSC v.1900 64 bit (AMD64)]'"
      ]
     },
     "execution_count": 1,
     "metadata": {},
     "output_type": "execute_result"
    }
   ],
   "source": [
    "import sys\n",
    "sys.version"
   ]
  },
  {
   "cell_type": "code",
   "execution_count": 161,
   "metadata": {},
   "outputs": [],
   "source": [
    "import pandas as pd\n",
    "import numpy as np\n",
    "from gensim.models import Word2Vec\n",
    "from scipy.spatial.distance import cosine, euclidean"
   ]
  },
  {
   "cell_type": "code",
   "execution_count": 8,
   "metadata": {
    "collapsed": true
   },
   "outputs": [],
   "source": [
    "import re\n",
    "def getWords(text):\n",
    "    splitted_text = text.split()\n",
    "    new_splitted_text = []\n",
    "    for item in splitted_text:\n",
    "        if len(item) == 1:\n",
    "            item = item.lower()\n",
    "        new_splitted_text.append(item)\n",
    "    new_text = \" \".join(new_splitted_text)\n",
    "    new_text = re.sub(\"\\.\", \" \", new_text)\n",
    "    new_text = re.sub(\"_\", \"\", new_text)\n",
    "    new_text = re.sub(\"(?<= [A-Z]{1}) +((?=[A-Z] )|(?=[A-Z]$))\", \"\", new_text)\n",
    "    all_words = re.compile('\\w+').findall(new_text)\n",
    "    return [words.lower() for words in all_words if len(words)>1]\n",
    "\n",
    "def get_word_score(model, word):\n",
    "    try:\n",
    "        score = model.wv[word]\n",
    "    except:\n",
    "        score = np.repeat(np.nan, repeats=VECTOR_DIM)\n",
    "    return score\n",
    "\n",
    "def get_title_score(title, model):\n",
    "    title_parsed = getWords(title)\n",
    "    mean_score = np.nanmean([get_word_score(model, i) for i in title_parsed], axis = 0) #nanmean to jak na.rm=TRUE w R\n",
    "    return mean_score\n",
    "\n",
    "def calculate_mean_cos_similarity(input_col):\n",
    "    n = input_col.shape[0]\n",
    "    calc_col = np.array(input_col)\n",
    "    similarity_sum = 0\n",
    "    counter = 0\n",
    "    for i in range(n):\n",
    "        for j in range(i, n):\n",
    "            similarity_sum+= cosine(calc_col[i], calc_col[j])\n",
    "            counter+=1\n",
    "            \n",
    "    return similarity_sum/counter"
   ]
  },
  {
   "cell_type": "code",
   "execution_count": 305,
   "metadata": {},
   "outputs": [],
   "source": [
    "train_data = pd.read_csv(\"titles_books.csv\")\n",
    "test_data = pd.read_csv(\"test_data.csv\")\n",
    "train_titles = [getWords(title) for title in train_data.title]\n",
    "i = 0\n",
    "labels = [0]\n",
    "for j in range(test_data.shape[0])[1:]:\n",
    "    if test_data.book_title[j-1]!=test_data.book_title[j]:\n",
    "        i += 1\n",
    "    labels.append(i)\n",
    "test_data['label'] = labels\n",
    "\n",
    "sample_test_data = test_data.loc[test_data.label.isin(np.random.choice(25, 10))].copy()"
   ]
  },
  {
   "cell_type": "code",
   "execution_count": 325,
   "metadata": {
    "collapsed": true
   },
   "outputs": [],
   "source": [
    "VECTOR_DIM = 16"
   ]
  },
  {
   "cell_type": "code",
   "execution_count": 358,
   "metadata": {},
   "outputs": [],
   "source": [
    "model = Word2Vec(train_titles, size=VECTOR_DIM, min_count=0)\n",
    "train_data['score'] = train_data.title.apply(func=get_title_score, model=model)\n",
    "test_data['score'] = test_data.title.apply(func=get_title_score, model=model)\n",
    "sample_test_data['score'] = sample_test_data.title.apply(func=get_title_score, model=model)"
   ]
  },
  {
   "cell_type": "code",
   "execution_count": 28,
   "metadata": {
    "collapsed": true
   },
   "outputs": [],
   "source": [
    "#test_data[[\"author\", \"book_title\", \"score\"]].groupby((\"author\", \"book_title\")).agg(lambda x: calculate_mean_cos_similarity(x))"
   ]
  },
  {
   "cell_type": "code",
   "execution_count": 29,
   "metadata": {
    "collapsed": true
   },
   "outputs": [],
   "source": [
    "#test_data[[\"author\",  \"score\"]].groupby((\"author\")).agg(lambda x: calculate_mean_cos_similarity(x))"
   ]
  },
  {
   "cell_type": "markdown",
   "metadata": {},
   "source": [
    "### Clustering"
   ]
  },
  {
   "cell_type": "code",
   "execution_count": 370,
   "metadata": {
    "collapsed": true
   },
   "outputs": [],
   "source": [
    "from sklearn.cluster import MeanShift"
   ]
  },
  {
   "cell_type": "code",
   "execution_count": 363,
   "metadata": {},
   "outputs": [
    {
     "name": "stdout",
     "output_type": "stream",
     "text": [
      "255\n"
     ]
    }
   ],
   "source": [
    "n_clusters = test_data.book_title.unique().shape[0]\n",
    "km = MeanShift(bandwidth=1, n_jobs=7)\n",
    "km.fit(np.array([i for i in train_data.score]))\n",
    "test_data['cluster'] = km.predict(np.array([i for i in test_data.score]))\n",
    "sample_test_data['cluster'] = km.predict(np.array([i for i in sample_test_data.score]))\n",
    "print(max(test_data.cluster))"
   ]
  },
  {
   "cell_type": "code",
   "execution_count": 369,
   "metadata": {},
   "outputs": [
    {
     "name": "stdout",
     "output_type": "stream",
     "text": [
      "(26,)\n"
     ]
    }
   ],
   "source": [
    "print(sample_test_data.cluster.unique().shape)"
   ]
  },
  {
   "cell_type": "code",
   "execution_count": 365,
   "metadata": {},
   "outputs": [
    {
     "name": "stdout",
     "output_type": "stream",
     "text": [
      "0.63076229541\n",
      "0.768699189774\n",
      "0.692932918205\n",
      "0.806924375942\n",
      "0.603742904688\n",
      "0.69070130609\n"
     ]
    }
   ],
   "source": [
    "from sklearn import metrics\n",
    "#print(metrics.adjusted_rand_score(test_data.label.tolist(), test_data.cluster.tolist()))\n",
    "#print(metrics.adjusted_mutual_info_score(test_data.label.tolist(), test_data.cluster.tolist()))\n",
    "print(metrics.homogeneity_score(test_data.label.tolist(), test_data.cluster.tolist()))\n",
    "print(metrics.completeness_score(test_data.label.tolist(), test_data.cluster.tolist()))\n",
    "print(metrics.v_measure_score(test_data.label.tolist(), test_data.cluster.tolist()))\n",
    "print(metrics.homogeneity_score(sample_test_data.label.tolist(), sample_test_data.cluster.tolist()))\n",
    "print(metrics.completeness_score(sample_test_data.label.tolist(), sample_test_data.cluster.tolist()))\n",
    "print(metrics.v_measure_score(sample_test_data.label.tolist(), sample_test_data.cluster.tolist()))"
   ]
  },
  {
   "cell_type": "code",
   "execution_count": null,
   "metadata": {
    "collapsed": true
   },
   "outputs": [],
   "source": []
  }
 ],
 "metadata": {
  "anaconda-cloud": {},
  "kernelspec": {
   "display_name": "Python [conda root]",
   "language": "python",
   "name": "conda-root-py"
  },
  "language_info": {
   "codemirror_mode": {
    "name": "ipython",
    "version": 3
   },
   "file_extension": ".py",
   "mimetype": "text/x-python",
   "name": "python",
   "nbconvert_exporter": "python",
   "pygments_lexer": "ipython3",
   "version": "3.6.0"
  }
 },
 "nbformat": 4,
 "nbformat_minor": 2
}
