{
 "cells": [
  {
   "cell_type": "code",
   "execution_count": 2,
   "metadata": {
    "collapsed": false
   },
   "outputs": [
    {
     "data": {
      "text/plain": [
       "'3.5.2 |Anaconda custom (64-bit)| (default, Jul  2 2016, 17:53:06) \\n[GCC 4.4.7 20120313 (Red Hat 4.4.7-1)]'"
      ]
     },
     "execution_count": 2,
     "metadata": {},
     "output_type": "execute_result"
    }
   ],
   "source": [
    "import sys\n",
    "sys.version"
   ]
  },
  {
   "cell_type": "code",
   "execution_count": 3,
   "metadata": {
    "collapsed": false
   },
   "outputs": [],
   "source": [
    "import pandas as pd\n",
    "import numpy as np\n",
    "from gensim.models import Word2Vec\n",
    "from scipy.spatial.distance import cosine, euclidean"
   ]
  },
  {
   "cell_type": "code",
   "execution_count": 3,
   "metadata": {
    "collapsed": true
   },
   "outputs": [],
   "source": [
    "import re\n",
    "def getWords(text):\n",
    "    splitted_text = text.split()\n",
    "    new_splitted_text = []\n",
    "    for item in splitted_text:\n",
    "        if len(item) == 1:\n",
    "            item = item.lower()\n",
    "        new_splitted_text.append(item)\n",
    "    new_text = \" \".join(new_splitted_text)\n",
    "    new_text = re.sub(\"\\.\", \" \", new_text)\n",
    "    new_text = re.sub(\"_\", \"\", new_text)\n",
    "    new_text = re.sub(\"(?<= [A-Z]{1}) +((?=[A-Z] )|(?=[A-Z]$))\", \"\", new_text)\n",
    "    all_words = re.compile('\\w+').findall(new_text)\n",
    "    return [words.lower() for words in all_words if len(words)>1]\n",
    "\n",
    "def get_word_score(model, word):\n",
    "    try:\n",
    "        score = model.wv[word]\n",
    "    except:\n",
    "        score = np.repeat(np.nan, repeats=VECTOR_DIM)\n",
    "    return score\n",
    "\n",
    "def get_title_score(title, model):\n",
    "    title_parsed = getWords(title)\n",
    "    mean_score = np.nanmean([get_word_score(model, i) for i in title_parsed], axis = 0) #nanmean to jak na.rm=TRUE w R\n",
    "    return mean_score\n",
    "\n",
    "def calculate_mean_cos_similarity(input_col):\n",
    "    n = input_col.shape[0]\n",
    "    calc_col = np.array(input_col)\n",
    "    similarity_sum = 0\n",
    "    counter = 0\n",
    "    for i in range(n):\n",
    "        for j in range(i, n):\n",
    "            similarity_sum+= cosine(calc_col[i], calc_col[j])\n",
    "            counter+=1\n",
    "            \n",
    "    return similarity_sum/counter"
   ]
  },
  {
   "cell_type": "code",
   "execution_count": 4,
   "metadata": {
    "collapsed": true
   },
   "outputs": [],
   "source": [
    "train_data = pd.read_csv(\"titles_books.csv\")\n",
    "test_data = pd.read_csv(\"test_data.csv\")\n",
    "train_titles = [getWords(title) for title in train_data.title]\n",
    "i = 0\n",
    "labels = [0]\n",
    "for j in range(test_data.shape[0])[1:]:\n",
    "    if test_data.book_title[j-1]!=test_data.book_title[j]:\n",
    "        i += 1\n",
    "    labels.append(i)\n",
    "test_data['label'] = labels\n",
    "\n",
    "sample_test_data = test_data.loc[test_data.label.isin(np.random.choice(25, 10))].copy()"
   ]
  },
  {
   "cell_type": "markdown",
   "metadata": {},
   "source": [
    "### Clustering and w2v grid search"
   ]
  },
  {
   "cell_type": "code",
   "execution_count": 5,
   "metadata": {
    "collapsed": false,
    "scrolled": true
   },
   "outputs": [],
   "source": [
    "results_df = pd.DataFrame(columns=['vec_dim', 'bandwith', 'h_test', 'c_test', 'v_test', 'h_smtest', 'c_smtest', 'v_smtest', 'n_clust_test', 'n_clust_smtest'], dtype=np.float64)"
   ]
  },
  {
   "cell_type": "code",
   "execution_count": null,
   "metadata": {
    "collapsed": true
   },
   "outputs": [],
   "source": [
    "from sklearn.cluster import MeanShift\n",
    "from sklearn import metrics\n",
    "for VECTOR_DIM in [32,50,65,80,100]:\n",
    "    model = Word2Vec(train_titles, size=VECTOR_DIM, min_count=0)\n",
    "    train_data['score'] = train_data.title.apply(func=get_title_score, model=model)\n",
    "    test_data['score'] = test_data.title.apply(func=get_title_score, model=model)\n",
    "    sample_test_data['score'] = sample_test_data.title.apply(func=get_title_score, model=model)\n",
    "    for bandwith in np.arange(0.4, 1.6, 0.2):\n",
    "        km = MeanShift(bandwidth=bandwith, n_jobs=8)\n",
    "        km.fit(np.array([i for i in train_data.score]))\n",
    "        test_data['cluster'] = km.predict(np.array([i for i in test_data.score]))\n",
    "        sample_test_data['cluster'] = km.predict(np.array([i for i in sample_test_data.score]))\n",
    "        new_obs = {\n",
    "            'vec_dim' : VECTOR_DIM,\n",
    "            'bandwith' : bandwith,\n",
    "            'h_test' : metrics.homogeneity_score(test_data.label.tolist(), test_data.cluster.tolist()),\n",
    "            'c_test' : metrics.completeness_score(test_data.label.tolist(), test_data.cluster.tolist()),\n",
    "            'v_test' : metrics.v_measure_score(test_data.label.tolist(), test_data.cluster.tolist()),\n",
    "            'h_smtest' : metrics.homogeneity_score(sample_test_data.label.tolist(), sample_test_data.cluster.tolist()),\n",
    "            'c_smtest' : metrics.completeness_score(sample_test_data.label.tolist(), sample_test_data.cluster.tolist()),\n",
    "            'v_smtest' : metrics.v_measure_score(sample_test_data.label.tolist(), sample_test_data.cluster.tolist()),\n",
    "            'n_clust_test' : test_data.cluster.unique().shape[0],\n",
    "            'n_clust_smtest' : sample_test_data.cluster.unique().shape[0]\n",
    "        }\n",
    "        results_df.append(new_obs, ignore_index=True)\n",
    "\n",
    "results_df.to_csv(\"grid_search_results.csv\")"
   ]
  },
  {
   "cell_type": "code",
   "execution_count": 377,
   "metadata": {
    "collapsed": true
   },
   "outputs": [],
   "source": [
    "VECTOR_DIM = 64"
   ]
  },
  {
   "cell_type": "code",
   "execution_count": 378,
   "metadata": {
    "collapsed": true
   },
   "outputs": [],
   "source": [
    "model = Word2Vec(train_titles, size=VECTOR_DIM, min_count=0)\n",
    "train_data['score'] = train_data.title.apply(func=get_title_score, model=model)\n",
    "test_data['score'] = test_data.title.apply(func=get_title_score, model=model)\n",
    "sample_test_data['score'] = sample_test_data.title.apply(func=get_title_score, model=model)"
   ]
  },
  {
   "cell_type": "code",
   "execution_count": 28,
   "metadata": {
    "collapsed": true
   },
   "outputs": [],
   "source": [
    "#test_data[[\"author\", \"book_title\", \"score\"]].groupby((\"author\", \"book_title\")).agg(lambda x: calculate_mean_cos_similarity(x))"
   ]
  },
  {
   "cell_type": "code",
   "execution_count": 29,
   "metadata": {
    "collapsed": true
   },
   "outputs": [],
   "source": [
    "#test_data[[\"author\",  \"score\"]].groupby((\"author\")).agg(lambda x: calculate_mean_cos_similarity(x))"
   ]
  },
  {
   "cell_type": "markdown",
   "metadata": {},
   "source": [
    "### Clustering"
   ]
  },
  {
   "cell_type": "code",
   "execution_count": 373,
   "metadata": {
    "collapsed": true
   },
   "outputs": [],
   "source": [
    "from sklearn.cluster import MeanShift"
   ]
  },
  {
   "cell_type": "code",
   "execution_count": 379,
   "metadata": {
    "collapsed": true
   },
   "outputs": [],
   "source": [
    "n_clusters = test_data.book_title.unique().shape[0]\n",
    "km = MeanShift(bandwidth=1, n_jobs=7)\n",
    "km.fit(np.array([i for i in train_data.score]))\n",
    "test_data['cluster'] = km.predict(np.array([i for i in test_data.score]))\n",
    "sample_test_data['cluster'] = km.predict(np.array([i for i in sample_test_data.score]))"
   ]
  },
  {
   "cell_type": "code",
   "execution_count": 380,
   "metadata": {
    "collapsed": false
   },
   "outputs": [
    {
     "name": "stdout",
     "output_type": "stream",
     "text": [
      "(19,)\n",
      "(43,)\n"
     ]
    }
   ],
   "source": [
    "print(sample_test_data.cluster.unique().shape)\n",
    "print(test_data.cluster.unique().shape)"
   ]
  },
  {
   "cell_type": "code",
   "execution_count": 381,
   "metadata": {
    "collapsed": false
   },
   "outputs": [
    {
     "name": "stdout",
     "output_type": "stream",
     "text": [
      "0.598780484539\n",
      "0.780779077942\n",
      "0.677774685955\n",
      "0.732633729111\n",
      "0.624081322282\n",
      "0.67401482123\n"
     ]
    }
   ],
   "source": [
    "from sklearn import metrics\n",
    "#print(metrics.adjusted_rand_score(test_data.label.tolist(), test_data.cluster.tolist()))\n",
    "#print(metrics.adjusted_mutual_info_score(test_data.label.tolist(), test_data.cluster.tolist()))\n",
    "print(metrics.homogeneity_score(test_data.label.tolist(), test_data.cluster.tolist()))\n",
    "print(metrics.completeness_score(test_data.label.tolist(), test_data.cluster.tolist()))\n",
    "print(metrics.v_measure_score(test_data.label.tolist(), test_data.cluster.tolist()))\n",
    "print(metrics.homogeneity_score(sample_test_data.label.tolist(), sample_test_data.cluster.tolist()))\n",
    "print(metrics.completeness_score(sample_test_data.label.tolist(), sample_test_data.cluster.tolist()))\n",
    "print(metrics.v_measure_score(sample_test_data.label.tolist(), sample_test_data.cluster.tolist()))"
   ]
  },
  {
   "cell_type": "code",
   "execution_count": null,
   "metadata": {
    "collapsed": true
   },
   "outputs": [],
   "source": []
  }
 ],
 "metadata": {
  "anaconda-cloud": {},
  "kernelspec": {
   "display_name": "Python [default]",
   "language": "python",
   "name": "python3"
  },
  "language_info": {
   "codemirror_mode": {
    "name": "ipython",
    "version": 3
   },
   "file_extension": ".py",
   "mimetype": "text/x-python",
   "name": "python",
   "nbconvert_exporter": "python",
   "pygments_lexer": "ipython3",
   "version": "3.5.2"
  }
 },
 "nbformat": 4,
 "nbformat_minor": 2
}
